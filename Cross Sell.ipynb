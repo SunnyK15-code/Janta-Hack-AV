{
 "cells": [
  {
   "cell_type": "code",
   "execution_count": 1,
   "metadata": {},
   "outputs": [
    {
     "data": {
      "text/html": [
       "<div>\n",
       "<style scoped>\n",
       "    .dataframe tbody tr th:only-of-type {\n",
       "        vertical-align: middle;\n",
       "    }\n",
       "\n",
       "    .dataframe tbody tr th {\n",
       "        vertical-align: top;\n",
       "    }\n",
       "\n",
       "    .dataframe thead th {\n",
       "        text-align: right;\n",
       "    }\n",
       "</style>\n",
       "<table border=\"1\" class=\"dataframe\">\n",
       "  <thead>\n",
       "    <tr style=\"text-align: right;\">\n",
       "      <th></th>\n",
       "      <th>id</th>\n",
       "      <th>Gender</th>\n",
       "      <th>Age</th>\n",
       "      <th>Driving_License</th>\n",
       "      <th>Region_Code</th>\n",
       "      <th>Previously_Insured</th>\n",
       "      <th>Vehicle_Age</th>\n",
       "      <th>Vehicle_Damage</th>\n",
       "      <th>Annual_Premium</th>\n",
       "      <th>Policy_Sales_Channel</th>\n",
       "      <th>Vintage</th>\n",
       "      <th>Response</th>\n",
       "    </tr>\n",
       "  </thead>\n",
       "  <tbody>\n",
       "    <tr>\n",
       "      <th>0</th>\n",
       "      <td>1</td>\n",
       "      <td>Male</td>\n",
       "      <td>44</td>\n",
       "      <td>1</td>\n",
       "      <td>28.0</td>\n",
       "      <td>0</td>\n",
       "      <td>&gt; 2 Years</td>\n",
       "      <td>Yes</td>\n",
       "      <td>40454.0</td>\n",
       "      <td>26.0</td>\n",
       "      <td>217</td>\n",
       "      <td>1</td>\n",
       "    </tr>\n",
       "    <tr>\n",
       "      <th>1</th>\n",
       "      <td>2</td>\n",
       "      <td>Male</td>\n",
       "      <td>76</td>\n",
       "      <td>1</td>\n",
       "      <td>3.0</td>\n",
       "      <td>0</td>\n",
       "      <td>1-2 Year</td>\n",
       "      <td>No</td>\n",
       "      <td>33536.0</td>\n",
       "      <td>26.0</td>\n",
       "      <td>183</td>\n",
       "      <td>0</td>\n",
       "    </tr>\n",
       "    <tr>\n",
       "      <th>2</th>\n",
       "      <td>3</td>\n",
       "      <td>Male</td>\n",
       "      <td>47</td>\n",
       "      <td>1</td>\n",
       "      <td>28.0</td>\n",
       "      <td>0</td>\n",
       "      <td>&gt; 2 Years</td>\n",
       "      <td>Yes</td>\n",
       "      <td>38294.0</td>\n",
       "      <td>26.0</td>\n",
       "      <td>27</td>\n",
       "      <td>1</td>\n",
       "    </tr>\n",
       "    <tr>\n",
       "      <th>3</th>\n",
       "      <td>4</td>\n",
       "      <td>Male</td>\n",
       "      <td>21</td>\n",
       "      <td>1</td>\n",
       "      <td>11.0</td>\n",
       "      <td>1</td>\n",
       "      <td>&lt; 1 Year</td>\n",
       "      <td>No</td>\n",
       "      <td>28619.0</td>\n",
       "      <td>152.0</td>\n",
       "      <td>203</td>\n",
       "      <td>0</td>\n",
       "    </tr>\n",
       "    <tr>\n",
       "      <th>4</th>\n",
       "      <td>5</td>\n",
       "      <td>Female</td>\n",
       "      <td>29</td>\n",
       "      <td>1</td>\n",
       "      <td>41.0</td>\n",
       "      <td>1</td>\n",
       "      <td>&lt; 1 Year</td>\n",
       "      <td>No</td>\n",
       "      <td>27496.0</td>\n",
       "      <td>152.0</td>\n",
       "      <td>39</td>\n",
       "      <td>0</td>\n",
       "    </tr>\n",
       "  </tbody>\n",
       "</table>\n",
       "</div>"
      ],
      "text/plain": [
       "   id  Gender  Age  Driving_License  Region_Code  Previously_Insured  \\\n",
       "0   1    Male   44                1         28.0                   0   \n",
       "1   2    Male   76                1          3.0                   0   \n",
       "2   3    Male   47                1         28.0                   0   \n",
       "3   4    Male   21                1         11.0                   1   \n",
       "4   5  Female   29                1         41.0                   1   \n",
       "\n",
       "  Vehicle_Age Vehicle_Damage  Annual_Premium  Policy_Sales_Channel  Vintage  \\\n",
       "0   > 2 Years            Yes         40454.0                  26.0      217   \n",
       "1    1-2 Year             No         33536.0                  26.0      183   \n",
       "2   > 2 Years            Yes         38294.0                  26.0       27   \n",
       "3    < 1 Year             No         28619.0                 152.0      203   \n",
       "4    < 1 Year             No         27496.0                 152.0       39   \n",
       "\n",
       "   Response  \n",
       "0         1  \n",
       "1         0  \n",
       "2         1  \n",
       "3         0  \n",
       "4         0  "
      ]
     },
     "execution_count": 1,
     "metadata": {},
     "output_type": "execute_result"
    }
   ],
   "source": [
    "import pandas as pd\n",
    "from matplotlib import pyplot as plt\n",
    "import numpy as np\n",
    "import seaborn as sns\n",
    "df= pd.read_csv('C:\\\\Users\\\\Sunny\\\\Desktop\\\\Analytics Vidhya\\\\Cross Sell\\\\train.csv')\n",
    "df.head()"
   ]
  },
  {
   "cell_type": "code",
   "execution_count": 2,
   "metadata": {},
   "outputs": [],
   "source": [
    "df['mean_annual_deposit_per_region'] = df.groupby('Region_Code')['Annual_Premium'].transform('mean')\n",
    "df['mean_Admission_Deposit_per_gender']=df.groupby(['Gender'])['Annual_Premium'].transform('mean')\n",
    "df['mean_Admission_Deposit_per_driving_license']=df.groupby(['Driving_License'])['Annual_Premium'].transform('mean')\n",
    "df['mean_Admission_Deposit_per_Previously_Insured']=df.groupby(['Previously_Insured'])['Annual_Premium'].transform('mean')\n",
    "df['mean_Admission_Deposit_per_vehicle_age']=df.groupby(['Vehicle_Age'])['Annual_Premium'].transform('mean')\n",
    "df['mean_Admission_Deposit_per_Vehicle_Damage']=df.groupby(['Vehicle_Damage'])['Annual_Premium'].transform('mean')\n",
    "df['mean_Admission_Deposit_per_Policy_Sales']=df.groupby(['Policy_Sales_Channel'])['Annual_Premium'].transform('mean')\n",
    "df['mean_Admission_Deposit_per_Vintage']=df.groupby(['Vintage'])['Annual_Premium'].transform('mean')"
   ]
  },
  {
   "cell_type": "code",
   "execution_count": 3,
   "metadata": {},
   "outputs": [
    {
     "data": {
      "text/html": [
       "<div>\n",
       "<style scoped>\n",
       "    .dataframe tbody tr th:only-of-type {\n",
       "        vertical-align: middle;\n",
       "    }\n",
       "\n",
       "    .dataframe tbody tr th {\n",
       "        vertical-align: top;\n",
       "    }\n",
       "\n",
       "    .dataframe thead th {\n",
       "        text-align: right;\n",
       "    }\n",
       "</style>\n",
       "<table border=\"1\" class=\"dataframe\">\n",
       "  <thead>\n",
       "    <tr style=\"text-align: right;\">\n",
       "      <th></th>\n",
       "      <th>id</th>\n",
       "      <th>Gender</th>\n",
       "      <th>Age</th>\n",
       "      <th>Driving_License</th>\n",
       "      <th>Region_Code</th>\n",
       "      <th>Previously_Insured</th>\n",
       "      <th>Vehicle_Age</th>\n",
       "      <th>Vehicle_Damage</th>\n",
       "      <th>Annual_Premium</th>\n",
       "      <th>Policy_Sales_Channel</th>\n",
       "      <th>Vintage</th>\n",
       "      <th>Response</th>\n",
       "      <th>mean_annual_deposit_per_region</th>\n",
       "      <th>mean_Admission_Deposit_per_gender</th>\n",
       "      <th>mean_Admission_Deposit_per_driving_license</th>\n",
       "      <th>mean_Admission_Deposit_per_Previously_Insured</th>\n",
       "      <th>mean_Admission_Deposit_per_vehicle_age</th>\n",
       "      <th>mean_Admission_Deposit_per_Vehicle_Damage</th>\n",
       "      <th>mean_Admission_Deposit_per_Policy_Sales</th>\n",
       "      <th>mean_Admission_Deposit_per_Vintage</th>\n",
       "    </tr>\n",
       "  </thead>\n",
       "  <tbody>\n",
       "    <tr>\n",
       "      <th>0</th>\n",
       "      <td>1</td>\n",
       "      <td>Male</td>\n",
       "      <td>44</td>\n",
       "      <td>1</td>\n",
       "      <td>28.0</td>\n",
       "      <td>0</td>\n",
       "      <td>&gt; 2 Years</td>\n",
       "      <td>Yes</td>\n",
       "      <td>40454.0</td>\n",
       "      <td>26.0</td>\n",
       "      <td>217</td>\n",
       "      <td>1</td>\n",
       "      <td>38668.865245</td>\n",
       "      <td>30622.649122</td>\n",
       "      <td>30554.919366</td>\n",
       "      <td>30496.815760</td>\n",
       "      <td>35654.499469</td>\n",
       "      <td>30723.758171</td>\n",
       "      <td>33654.241355</td>\n",
       "      <td>29340.551908</td>\n",
       "    </tr>\n",
       "    <tr>\n",
       "      <th>1</th>\n",
       "      <td>2</td>\n",
       "      <td>Male</td>\n",
       "      <td>76</td>\n",
       "      <td>1</td>\n",
       "      <td>3.0</td>\n",
       "      <td>0</td>\n",
       "      <td>1-2 Year</td>\n",
       "      <td>No</td>\n",
       "      <td>33536.0</td>\n",
       "      <td>26.0</td>\n",
       "      <td>183</td>\n",
       "      <td>0</td>\n",
       "      <td>24524.480813</td>\n",
       "      <td>30622.649122</td>\n",
       "      <td>30554.919366</td>\n",
       "      <td>30496.815760</td>\n",
       "      <td>30523.582120</td>\n",
       "      <td>30401.881693</td>\n",
       "      <td>33654.241355</td>\n",
       "      <td>31330.656226</td>\n",
       "    </tr>\n",
       "    <tr>\n",
       "      <th>2</th>\n",
       "      <td>3</td>\n",
       "      <td>Male</td>\n",
       "      <td>47</td>\n",
       "      <td>1</td>\n",
       "      <td>28.0</td>\n",
       "      <td>0</td>\n",
       "      <td>&gt; 2 Years</td>\n",
       "      <td>Yes</td>\n",
       "      <td>38294.0</td>\n",
       "      <td>26.0</td>\n",
       "      <td>27</td>\n",
       "      <td>1</td>\n",
       "      <td>38668.865245</td>\n",
       "      <td>30622.649122</td>\n",
       "      <td>30554.919366</td>\n",
       "      <td>30496.815760</td>\n",
       "      <td>35654.499469</td>\n",
       "      <td>30723.758171</td>\n",
       "      <td>33654.241355</td>\n",
       "      <td>30499.429812</td>\n",
       "    </tr>\n",
       "    <tr>\n",
       "      <th>3</th>\n",
       "      <td>4</td>\n",
       "      <td>Male</td>\n",
       "      <td>21</td>\n",
       "      <td>1</td>\n",
       "      <td>11.0</td>\n",
       "      <td>1</td>\n",
       "      <td>&lt; 1 Year</td>\n",
       "      <td>No</td>\n",
       "      <td>28619.0</td>\n",
       "      <td>152.0</td>\n",
       "      <td>203</td>\n",
       "      <td>0</td>\n",
       "      <td>27607.283146</td>\n",
       "      <td>30622.649122</td>\n",
       "      <td>30554.919366</td>\n",
       "      <td>30644.289198</td>\n",
       "      <td>30119.552025</td>\n",
       "      <td>30401.881693</td>\n",
       "      <td>30889.192493</td>\n",
       "      <td>31042.597826</td>\n",
       "    </tr>\n",
       "    <tr>\n",
       "      <th>4</th>\n",
       "      <td>5</td>\n",
       "      <td>Female</td>\n",
       "      <td>29</td>\n",
       "      <td>1</td>\n",
       "      <td>41.0</td>\n",
       "      <td>1</td>\n",
       "      <td>&lt; 1 Year</td>\n",
       "      <td>No</td>\n",
       "      <td>27496.0</td>\n",
       "      <td>152.0</td>\n",
       "      <td>39</td>\n",
       "      <td>0</td>\n",
       "      <td>30949.127471</td>\n",
       "      <td>30495.787990</td>\n",
       "      <td>30554.919366</td>\n",
       "      <td>30644.289198</td>\n",
       "      <td>30119.552025</td>\n",
       "      <td>30401.881693</td>\n",
       "      <td>30889.192493</td>\n",
       "      <td>30842.384326</td>\n",
       "    </tr>\n",
       "  </tbody>\n",
       "</table>\n",
       "</div>"
      ],
      "text/plain": [
       "   id  Gender  Age  Driving_License  Region_Code  Previously_Insured  \\\n",
       "0   1    Male   44                1         28.0                   0   \n",
       "1   2    Male   76                1          3.0                   0   \n",
       "2   3    Male   47                1         28.0                   0   \n",
       "3   4    Male   21                1         11.0                   1   \n",
       "4   5  Female   29                1         41.0                   1   \n",
       "\n",
       "  Vehicle_Age Vehicle_Damage  Annual_Premium  Policy_Sales_Channel  Vintage  \\\n",
       "0   > 2 Years            Yes         40454.0                  26.0      217   \n",
       "1    1-2 Year             No         33536.0                  26.0      183   \n",
       "2   > 2 Years            Yes         38294.0                  26.0       27   \n",
       "3    < 1 Year             No         28619.0                 152.0      203   \n",
       "4    < 1 Year             No         27496.0                 152.0       39   \n",
       "\n",
       "   Response  mean_annual_deposit_per_region  \\\n",
       "0         1                    38668.865245   \n",
       "1         0                    24524.480813   \n",
       "2         1                    38668.865245   \n",
       "3         0                    27607.283146   \n",
       "4         0                    30949.127471   \n",
       "\n",
       "   mean_Admission_Deposit_per_gender  \\\n",
       "0                       30622.649122   \n",
       "1                       30622.649122   \n",
       "2                       30622.649122   \n",
       "3                       30622.649122   \n",
       "4                       30495.787990   \n",
       "\n",
       "   mean_Admission_Deposit_per_driving_license  \\\n",
       "0                                30554.919366   \n",
       "1                                30554.919366   \n",
       "2                                30554.919366   \n",
       "3                                30554.919366   \n",
       "4                                30554.919366   \n",
       "\n",
       "   mean_Admission_Deposit_per_Previously_Insured  \\\n",
       "0                                   30496.815760   \n",
       "1                                   30496.815760   \n",
       "2                                   30496.815760   \n",
       "3                                   30644.289198   \n",
       "4                                   30644.289198   \n",
       "\n",
       "   mean_Admission_Deposit_per_vehicle_age  \\\n",
       "0                            35654.499469   \n",
       "1                            30523.582120   \n",
       "2                            35654.499469   \n",
       "3                            30119.552025   \n",
       "4                            30119.552025   \n",
       "\n",
       "   mean_Admission_Deposit_per_Vehicle_Damage  \\\n",
       "0                               30723.758171   \n",
       "1                               30401.881693   \n",
       "2                               30723.758171   \n",
       "3                               30401.881693   \n",
       "4                               30401.881693   \n",
       "\n",
       "   mean_Admission_Deposit_per_Policy_Sales  mean_Admission_Deposit_per_Vintage  \n",
       "0                             33654.241355                        29340.551908  \n",
       "1                             33654.241355                        31330.656226  \n",
       "2                             33654.241355                        30499.429812  \n",
       "3                             30889.192493                        31042.597826  \n",
       "4                             30889.192493                        30842.384326  "
      ]
     },
     "execution_count": 3,
     "metadata": {},
     "output_type": "execute_result"
    }
   ],
   "source": [
    "df.head()"
   ]
  },
  {
   "cell_type": "code",
   "execution_count": 4,
   "metadata": {},
   "outputs": [
    {
     "data": {
      "text/plain": [
       "(381109, 20)"
      ]
     },
     "execution_count": 4,
     "metadata": {},
     "output_type": "execute_result"
    }
   ],
   "source": [
    "df.shape"
   ]
  },
  {
   "cell_type": "code",
   "execution_count": 5,
   "metadata": {},
   "outputs": [
    {
     "data": {
      "text/html": [
       "<div>\n",
       "<style scoped>\n",
       "    .dataframe tbody tr th:only-of-type {\n",
       "        vertical-align: middle;\n",
       "    }\n",
       "\n",
       "    .dataframe tbody tr th {\n",
       "        vertical-align: top;\n",
       "    }\n",
       "\n",
       "    .dataframe thead th {\n",
       "        text-align: right;\n",
       "    }\n",
       "</style>\n",
       "<table border=\"1\" class=\"dataframe\">\n",
       "  <thead>\n",
       "    <tr style=\"text-align: right;\">\n",
       "      <th></th>\n",
       "      <th>id</th>\n",
       "      <th>Age</th>\n",
       "      <th>Driving_License</th>\n",
       "      <th>Region_Code</th>\n",
       "      <th>Previously_Insured</th>\n",
       "      <th>Annual_Premium</th>\n",
       "      <th>Policy_Sales_Channel</th>\n",
       "      <th>Vintage</th>\n",
       "      <th>Response</th>\n",
       "      <th>mean_annual_deposit_per_region</th>\n",
       "      <th>mean_Admission_Deposit_per_gender</th>\n",
       "      <th>mean_Admission_Deposit_per_driving_license</th>\n",
       "      <th>mean_Admission_Deposit_per_Previously_Insured</th>\n",
       "      <th>mean_Admission_Deposit_per_vehicle_age</th>\n",
       "      <th>mean_Admission_Deposit_per_Vehicle_Damage</th>\n",
       "      <th>mean_Admission_Deposit_per_Policy_Sales</th>\n",
       "      <th>mean_Admission_Deposit_per_Vintage</th>\n",
       "    </tr>\n",
       "  </thead>\n",
       "  <tbody>\n",
       "    <tr>\n",
       "      <th>count</th>\n",
       "      <td>381109.000000</td>\n",
       "      <td>381109.000000</td>\n",
       "      <td>381109.000000</td>\n",
       "      <td>381109.000000</td>\n",
       "      <td>381109.000000</td>\n",
       "      <td>381109.000000</td>\n",
       "      <td>381109.000000</td>\n",
       "      <td>381109.000000</td>\n",
       "      <td>381109.000000</td>\n",
       "      <td>381109.000000</td>\n",
       "      <td>381109.000000</td>\n",
       "      <td>381109.000000</td>\n",
       "      <td>381109.000000</td>\n",
       "      <td>381109.000000</td>\n",
       "      <td>381109.000000</td>\n",
       "      <td>381109.000000</td>\n",
       "      <td>381109.000000</td>\n",
       "    </tr>\n",
       "    <tr>\n",
       "      <th>mean</th>\n",
       "      <td>190555.000000</td>\n",
       "      <td>38.822584</td>\n",
       "      <td>0.997869</td>\n",
       "      <td>26.388807</td>\n",
       "      <td>0.458210</td>\n",
       "      <td>30564.389581</td>\n",
       "      <td>112.034295</td>\n",
       "      <td>154.347397</td>\n",
       "      <td>0.122563</td>\n",
       "      <td>30564.389581</td>\n",
       "      <td>30564.389581</td>\n",
       "      <td>30564.389581</td>\n",
       "      <td>30564.389582</td>\n",
       "      <td>30564.389581</td>\n",
       "      <td>30564.389581</td>\n",
       "      <td>30564.389582</td>\n",
       "      <td>30564.389581</td>\n",
       "    </tr>\n",
       "    <tr>\n",
       "      <th>std</th>\n",
       "      <td>110016.836208</td>\n",
       "      <td>15.511611</td>\n",
       "      <td>0.046110</td>\n",
       "      <td>13.229888</td>\n",
       "      <td>0.498251</td>\n",
       "      <td>17213.155057</td>\n",
       "      <td>54.203995</td>\n",
       "      <td>83.671304</td>\n",
       "      <td>0.327936</td>\n",
       "      <td>7385.281562</td>\n",
       "      <td>63.219520</td>\n",
       "      <td>204.948092</td>\n",
       "      <td>73.478817</td>\n",
       "      <td>1083.814960</td>\n",
       "      <td>160.930795</td>\n",
       "      <td>5209.972982</td>\n",
       "      <td>497.254584</td>\n",
       "    </tr>\n",
       "    <tr>\n",
       "      <th>min</th>\n",
       "      <td>1.000000</td>\n",
       "      <td>20.000000</td>\n",
       "      <td>0.000000</td>\n",
       "      <td>0.000000</td>\n",
       "      <td>0.000000</td>\n",
       "      <td>2630.000000</td>\n",
       "      <td>1.000000</td>\n",
       "      <td>10.000000</td>\n",
       "      <td>0.000000</td>\n",
       "      <td>2693.839796</td>\n",
       "      <td>30495.787990</td>\n",
       "      <td>30554.919366</td>\n",
       "      <td>30496.815760</td>\n",
       "      <td>30119.552025</td>\n",
       "      <td>30401.881693</td>\n",
       "      <td>2630.000000</td>\n",
       "      <td>29340.551908</td>\n",
       "    </tr>\n",
       "    <tr>\n",
       "      <th>25%</th>\n",
       "      <td>95278.000000</td>\n",
       "      <td>25.000000</td>\n",
       "      <td>1.000000</td>\n",
       "      <td>15.000000</td>\n",
       "      <td>0.000000</td>\n",
       "      <td>24405.000000</td>\n",
       "      <td>29.000000</td>\n",
       "      <td>82.000000</td>\n",
       "      <td>0.000000</td>\n",
       "      <td>26068.766957</td>\n",
       "      <td>30495.787990</td>\n",
       "      <td>30554.919366</td>\n",
       "      <td>30496.815760</td>\n",
       "      <td>30119.552025</td>\n",
       "      <td>30401.881693</td>\n",
       "      <td>30889.192493</td>\n",
       "      <td>30245.623177</td>\n",
       "    </tr>\n",
       "    <tr>\n",
       "      <th>50%</th>\n",
       "      <td>190555.000000</td>\n",
       "      <td>36.000000</td>\n",
       "      <td>1.000000</td>\n",
       "      <td>28.000000</td>\n",
       "      <td>0.000000</td>\n",
       "      <td>31669.000000</td>\n",
       "      <td>133.000000</td>\n",
       "      <td>154.000000</td>\n",
       "      <td>0.000000</td>\n",
       "      <td>29624.520815</td>\n",
       "      <td>30622.649122</td>\n",
       "      <td>30554.919366</td>\n",
       "      <td>30496.815760</td>\n",
       "      <td>30523.582120</td>\n",
       "      <td>30723.758171</td>\n",
       "      <td>30889.192493</td>\n",
       "      <td>30549.702910</td>\n",
       "    </tr>\n",
       "    <tr>\n",
       "      <th>75%</th>\n",
       "      <td>285832.000000</td>\n",
       "      <td>49.000000</td>\n",
       "      <td>1.000000</td>\n",
       "      <td>35.000000</td>\n",
       "      <td>1.000000</td>\n",
       "      <td>39400.000000</td>\n",
       "      <td>152.000000</td>\n",
       "      <td>227.000000</td>\n",
       "      <td>0.000000</td>\n",
       "      <td>38668.865245</td>\n",
       "      <td>30622.649122</td>\n",
       "      <td>30554.919366</td>\n",
       "      <td>30644.289198</td>\n",
       "      <td>30523.582120</td>\n",
       "      <td>30723.758171</td>\n",
       "      <td>33654.241355</td>\n",
       "      <td>30925.583088</td>\n",
       "    </tr>\n",
       "    <tr>\n",
       "      <th>max</th>\n",
       "      <td>381109.000000</td>\n",
       "      <td>85.000000</td>\n",
       "      <td>1.000000</td>\n",
       "      <td>52.000000</td>\n",
       "      <td>1.000000</td>\n",
       "      <td>540165.000000</td>\n",
       "      <td>163.000000</td>\n",
       "      <td>299.000000</td>\n",
       "      <td>1.000000</td>\n",
       "      <td>38668.865245</td>\n",
       "      <td>30622.649122</td>\n",
       "      <td>34999.727833</td>\n",
       "      <td>30644.289198</td>\n",
       "      <td>35654.499469</td>\n",
       "      <td>30723.758171</td>\n",
       "      <td>70359.500000</td>\n",
       "      <td>32237.581777</td>\n",
       "    </tr>\n",
       "  </tbody>\n",
       "</table>\n",
       "</div>"
      ],
      "text/plain": [
       "                  id            Age  Driving_License    Region_Code  \\\n",
       "count  381109.000000  381109.000000    381109.000000  381109.000000   \n",
       "mean   190555.000000      38.822584         0.997869      26.388807   \n",
       "std    110016.836208      15.511611         0.046110      13.229888   \n",
       "min         1.000000      20.000000         0.000000       0.000000   \n",
       "25%     95278.000000      25.000000         1.000000      15.000000   \n",
       "50%    190555.000000      36.000000         1.000000      28.000000   \n",
       "75%    285832.000000      49.000000         1.000000      35.000000   \n",
       "max    381109.000000      85.000000         1.000000      52.000000   \n",
       "\n",
       "       Previously_Insured  Annual_Premium  Policy_Sales_Channel  \\\n",
       "count       381109.000000   381109.000000         381109.000000   \n",
       "mean             0.458210    30564.389581            112.034295   \n",
       "std              0.498251    17213.155057             54.203995   \n",
       "min              0.000000     2630.000000              1.000000   \n",
       "25%              0.000000    24405.000000             29.000000   \n",
       "50%              0.000000    31669.000000            133.000000   \n",
       "75%              1.000000    39400.000000            152.000000   \n",
       "max              1.000000   540165.000000            163.000000   \n",
       "\n",
       "             Vintage       Response  mean_annual_deposit_per_region  \\\n",
       "count  381109.000000  381109.000000                   381109.000000   \n",
       "mean      154.347397       0.122563                    30564.389581   \n",
       "std        83.671304       0.327936                     7385.281562   \n",
       "min        10.000000       0.000000                     2693.839796   \n",
       "25%        82.000000       0.000000                    26068.766957   \n",
       "50%       154.000000       0.000000                    29624.520815   \n",
       "75%       227.000000       0.000000                    38668.865245   \n",
       "max       299.000000       1.000000                    38668.865245   \n",
       "\n",
       "       mean_Admission_Deposit_per_gender  \\\n",
       "count                      381109.000000   \n",
       "mean                        30564.389581   \n",
       "std                            63.219520   \n",
       "min                         30495.787990   \n",
       "25%                         30495.787990   \n",
       "50%                         30622.649122   \n",
       "75%                         30622.649122   \n",
       "max                         30622.649122   \n",
       "\n",
       "       mean_Admission_Deposit_per_driving_license  \\\n",
       "count                               381109.000000   \n",
       "mean                                 30564.389581   \n",
       "std                                    204.948092   \n",
       "min                                  30554.919366   \n",
       "25%                                  30554.919366   \n",
       "50%                                  30554.919366   \n",
       "75%                                  30554.919366   \n",
       "max                                  34999.727833   \n",
       "\n",
       "       mean_Admission_Deposit_per_Previously_Insured  \\\n",
       "count                                  381109.000000   \n",
       "mean                                    30564.389582   \n",
       "std                                        73.478817   \n",
       "min                                     30496.815760   \n",
       "25%                                     30496.815760   \n",
       "50%                                     30496.815760   \n",
       "75%                                     30644.289198   \n",
       "max                                     30644.289198   \n",
       "\n",
       "       mean_Admission_Deposit_per_vehicle_age  \\\n",
       "count                           381109.000000   \n",
       "mean                             30564.389581   \n",
       "std                               1083.814960   \n",
       "min                              30119.552025   \n",
       "25%                              30119.552025   \n",
       "50%                              30523.582120   \n",
       "75%                              30523.582120   \n",
       "max                              35654.499469   \n",
       "\n",
       "       mean_Admission_Deposit_per_Vehicle_Damage  \\\n",
       "count                              381109.000000   \n",
       "mean                                30564.389581   \n",
       "std                                   160.930795   \n",
       "min                                 30401.881693   \n",
       "25%                                 30401.881693   \n",
       "50%                                 30723.758171   \n",
       "75%                                 30723.758171   \n",
       "max                                 30723.758171   \n",
       "\n",
       "       mean_Admission_Deposit_per_Policy_Sales  \\\n",
       "count                            381109.000000   \n",
       "mean                              30564.389582   \n",
       "std                                5209.972982   \n",
       "min                                2630.000000   \n",
       "25%                               30889.192493   \n",
       "50%                               30889.192493   \n",
       "75%                               33654.241355   \n",
       "max                               70359.500000   \n",
       "\n",
       "       mean_Admission_Deposit_per_Vintage  \n",
       "count                       381109.000000  \n",
       "mean                         30564.389581  \n",
       "std                            497.254584  \n",
       "min                          29340.551908  \n",
       "25%                          30245.623177  \n",
       "50%                          30549.702910  \n",
       "75%                          30925.583088  \n",
       "max                          32237.581777  "
      ]
     },
     "execution_count": 5,
     "metadata": {},
     "output_type": "execute_result"
    }
   ],
   "source": [
    "df.describe()"
   ]
  },
  {
   "cell_type": "code",
   "execution_count": 6,
   "metadata": {},
   "outputs": [
    {
     "data": {
      "text/plain": [
       "id                                                 int64\n",
       "Gender                                            object\n",
       "Age                                                int64\n",
       "Driving_License                                    int64\n",
       "Region_Code                                      float64\n",
       "Previously_Insured                                 int64\n",
       "Vehicle_Age                                       object\n",
       "Vehicle_Damage                                    object\n",
       "Annual_Premium                                   float64\n",
       "Policy_Sales_Channel                             float64\n",
       "Vintage                                            int64\n",
       "Response                                           int64\n",
       "mean_annual_deposit_per_region                   float64\n",
       "mean_Admission_Deposit_per_gender                float64\n",
       "mean_Admission_Deposit_per_driving_license       float64\n",
       "mean_Admission_Deposit_per_Previously_Insured    float64\n",
       "mean_Admission_Deposit_per_vehicle_age           float64\n",
       "mean_Admission_Deposit_per_Vehicle_Damage        float64\n",
       "mean_Admission_Deposit_per_Policy_Sales          float64\n",
       "mean_Admission_Deposit_per_Vintage               float64\n",
       "dtype: object"
      ]
     },
     "execution_count": 6,
     "metadata": {},
     "output_type": "execute_result"
    }
   ],
   "source": [
    "df.dtypes"
   ]
  },
  {
   "cell_type": "code",
   "execution_count": 7,
   "metadata": {},
   "outputs": [
    {
     "data": {
      "text/plain": [
       "id                                               0\n",
       "Gender                                           0\n",
       "Age                                              0\n",
       "Driving_License                                  0\n",
       "Region_Code                                      0\n",
       "Previously_Insured                               0\n",
       "Vehicle_Age                                      0\n",
       "Vehicle_Damage                                   0\n",
       "Annual_Premium                                   0\n",
       "Policy_Sales_Channel                             0\n",
       "Vintage                                          0\n",
       "Response                                         0\n",
       "mean_annual_deposit_per_region                   0\n",
       "mean_Admission_Deposit_per_gender                0\n",
       "mean_Admission_Deposit_per_driving_license       0\n",
       "mean_Admission_Deposit_per_Previously_Insured    0\n",
       "mean_Admission_Deposit_per_vehicle_age           0\n",
       "mean_Admission_Deposit_per_Vehicle_Damage        0\n",
       "mean_Admission_Deposit_per_Policy_Sales          0\n",
       "mean_Admission_Deposit_per_Vintage               0\n",
       "dtype: int64"
      ]
     },
     "execution_count": 7,
     "metadata": {},
     "output_type": "execute_result"
    }
   ],
   "source": [
    "df.isnull().sum()"
   ]
  },
  {
   "cell_type": "code",
   "execution_count": 8,
   "metadata": {},
   "outputs": [
    {
     "data": {
      "text/plain": [
       "0"
      ]
     },
     "execution_count": 8,
     "metadata": {},
     "output_type": "execute_result"
    }
   ],
   "source": [
    "df.duplicated().sum()"
   ]
  },
  {
   "cell_type": "code",
   "execution_count": 9,
   "metadata": {},
   "outputs": [
    {
     "data": {
      "text/plain": [
       "(381109, 20)"
      ]
     },
     "execution_count": 9,
     "metadata": {},
     "output_type": "execute_result"
    }
   ],
   "source": [
    "df.shape"
   ]
  },
  {
   "cell_type": "code",
   "execution_count": 10,
   "metadata": {},
   "outputs": [
    {
     "data": {
      "text/plain": [
       "1-2 Year     200316\n",
       "< 1 Year     164786\n",
       "> 2 Years     16007\n",
       "Name: Vehicle_Age, dtype: int64"
      ]
     },
     "execution_count": 10,
     "metadata": {},
     "output_type": "execute_result"
    }
   ],
   "source": [
    "df.Vehicle_Age.value_counts() "
   ]
  },
  {
   "cell_type": "code",
   "execution_count": 11,
   "metadata": {},
   "outputs": [
    {
     "data": {
      "text/plain": [
       "0    334399\n",
       "1     46710\n",
       "Name: Response, dtype: int64"
      ]
     },
     "execution_count": 11,
     "metadata": {},
     "output_type": "execute_result"
    }
   ],
   "source": [
    "df.Response.value_counts() "
   ]
  },
  {
   "cell_type": "code",
   "execution_count": 12,
   "metadata": {},
   "outputs": [
    {
     "data": {
      "text/plain": [
       "<matplotlib.axes._subplots.AxesSubplot at 0x1b08005aa08>"
      ]
     },
     "execution_count": 12,
     "metadata": {},
     "output_type": "execute_result"
    },
    {
     "data": {
      "image/png": "[encoded data removed]",
      "text/plain": [
       "<Figure size 1080x360 with 1 Axes>"
      ]
     },
     "metadata": {
      "needs_background": "light"
     },
     "output_type": "display_data"
    }
   ],
   "source": [
    "plt.figure(figsize=(15,5))\n",
    "df.boxplot()"
   ]
  },
  {
   "cell_type": "code",
   "execution_count": 13,
   "metadata": {},
   "outputs": [
    {
     "data": {
      "text/plain": [
       "<matplotlib.axes._subplots.AxesSubplot at 0x1b0809ecbc8>"
      ]
     },
     "execution_count": 13,
     "metadata": {},
     "output_type": "execute_result"
    },
    {
     "data": {
      "image/png": "[encoded data removed]",
      "text/plain": [
       "<Figure size 432x288 with 1 Axes>"
      ]
     },
     "metadata": {
      "needs_background": "light"
     },
     "output_type": "display_data"
    }
   ],
   "source": [
    "sns.distplot(df.Annual_Premium)"
   ]
  },
  {
   "cell_type": "code",
   "execution_count": 14,
   "metadata": {},
   "outputs": [
    {
     "name": "stdout",
     "output_type": "stream",
     "text": [
      "1.7660872148961309\n",
      "0.5687664865207397\n",
      "1.3289421412898799\n"
     ]
    }
   ],
   "source": [
    "print(df.Annual_Premium.skew())\n",
    "print(np.log(df.Annual_Premium.skew()))\n",
    "print(np.sqrt(df.Annual_Premium.skew()))"
   ]
  },
  {
   "cell_type": "code",
   "execution_count": 15,
   "metadata": {},
   "outputs": [],
   "source": [
    "#df.Annual_Premium = np.log(df.Annual_Premium)\n",
    "#df.head()"
   ]
  },
  {
   "cell_type": "code",
   "execution_count": 16,
   "metadata": {},
   "outputs": [
    {
     "data": {
      "text/plain": [
       "<matplotlib.axes._subplots.AxesSubplot at 0x1b0808d9348>"
      ]
     },
     "execution_count": 16,
     "metadata": {},
     "output_type": "execute_result"
    },
    {
     "data": {
      "image/png": "[encoded data removed]",
      "text/plain": [
       "<Figure size 1080x360 with 1 Axes>"
      ]
     },
     "metadata": {
      "needs_background": "light"
     },
     "output_type": "display_data"
    }
   ],
   "source": [
    "plt.figure(figsize=(15,5))\n",
    "df.boxplot()"
   ]
  },
  {
   "cell_type": "code",
   "execution_count": 17,
   "metadata": {},
   "outputs": [
    {
     "data": {
      "text/plain": [
       "(381109, 20)"
      ]
     },
     "execution_count": 17,
     "metadata": {},
     "output_type": "execute_result"
    }
   ],
   "source": [
    "df.shape"
   ]
  },
  {
   "cell_type": "code",
   "execution_count": 18,
   "metadata": {},
   "outputs": [
    {
     "data": {
      "text/plain": [
       "14995.0"
      ]
     },
     "execution_count": 18,
     "metadata": {},
     "output_type": "execute_result"
    }
   ],
   "source": [
    "Q1 = df.Annual_Premium.quantile(0.25)\n",
    "Q3 = df.Annual_Premium.quantile(0.75)\n",
    "IQR = Q3 - Q1\n",
    "IQR"
   ]
  },
  {
   "cell_type": "code",
   "execution_count": 19,
   "metadata": {},
   "outputs": [
    {
     "data": {
      "text/plain": [
       "144282    540165.0\n",
       "190154    540165.0\n",
       "268332    540165.0\n",
       "54743     540165.0\n",
       "11319     508073.0\n",
       "347413    495106.0\n",
       "172257    489663.0\n",
       "136304    472042.0\n",
       "275442    472042.0\n",
       "281679    472042.0\n",
       "Name: Annual_Premium, dtype: float64"
      ]
     },
     "execution_count": 19,
     "metadata": {},
     "output_type": "execute_result"
    }
   ],
   "source": [
    "df.Annual_Premium.sort_values(ascending=False).head(10)"
   ]
  },
  {
   "cell_type": "code",
   "execution_count": 20,
   "metadata": {},
   "outputs": [],
   "source": [
    "df = df[~(df.Annual_Premium > 100000)]"
   ]
  },
  {
   "cell_type": "code",
   "execution_count": 21,
   "metadata": {},
   "outputs": [
    {
     "data": {
      "text/plain": [
       "<matplotlib.axes._subplots.AxesSubplot at 0x1b080010708>"
      ]
     },
     "execution_count": 21,
     "metadata": {},
     "output_type": "execute_result"
    },
    {
     "data": {
      "image/png": "[encoded data removed]",
      "text/plain": [
       "<Figure size 432x288 with 1 Axes>"
      ]
     },
     "metadata": {
      "needs_background": "light"
     },
     "output_type": "display_data"
    }
   ],
   "source": [
    "sns.boxplot(df.Annual_Premium)"
   ]
  },
  {
   "cell_type": "code",
   "execution_count": 22,
   "metadata": {},
   "outputs": [
    {
     "data": {
      "text/html": [
       "<div>\n",
       "<style scoped>\n",
       "    .dataframe tbody tr th:only-of-type {\n",
       "        vertical-align: middle;\n",
       "    }\n",
       "\n",
       "    .dataframe tbody tr th {\n",
       "        vertical-align: top;\n",
       "    }\n",
       "\n",
       "    .dataframe thead th {\n",
       "        text-align: right;\n",
       "    }\n",
       "</style>\n",
       "<table border=\"1\" class=\"dataframe\">\n",
       "  <thead>\n",
       "    <tr style=\"text-align: right;\">\n",
       "      <th></th>\n",
       "      <th>Gender</th>\n",
       "      <th>Age</th>\n",
       "      <th>Driving_License</th>\n",
       "      <th>Region_Code</th>\n",
       "      <th>Previously_Insured</th>\n",
       "      <th>Vehicle_Age</th>\n",
       "      <th>Vehicle_Damage</th>\n",
       "      <th>Annual_Premium</th>\n",
       "      <th>Policy_Sales_Channel</th>\n",
       "      <th>Vintage</th>\n",
       "      <th>mean_annual_deposit_per_region</th>\n",
       "      <th>mean_Admission_Deposit_per_gender</th>\n",
       "      <th>mean_Admission_Deposit_per_driving_license</th>\n",
       "      <th>mean_Admission_Deposit_per_Previously_Insured</th>\n",
       "      <th>mean_Admission_Deposit_per_vehicle_age</th>\n",
       "      <th>mean_Admission_Deposit_per_Vehicle_Damage</th>\n",
       "      <th>mean_Admission_Deposit_per_Policy_Sales</th>\n",
       "      <th>mean_Admission_Deposit_per_Vintage</th>\n",
       "    </tr>\n",
       "  </thead>\n",
       "  <tbody>\n",
       "    <tr>\n",
       "      <th>0</th>\n",
       "      <td>Male</td>\n",
       "      <td>44</td>\n",
       "      <td>1</td>\n",
       "      <td>28.0</td>\n",
       "      <td>0</td>\n",
       "      <td>&gt; 2 Years</td>\n",
       "      <td>Yes</td>\n",
       "      <td>40454.0</td>\n",
       "      <td>26.0</td>\n",
       "      <td>217</td>\n",
       "      <td>38668.865245</td>\n",
       "      <td>30622.649122</td>\n",
       "      <td>30554.919366</td>\n",
       "      <td>30496.815760</td>\n",
       "      <td>35654.499469</td>\n",
       "      <td>30723.758171</td>\n",
       "      <td>33654.241355</td>\n",
       "      <td>29340.551908</td>\n",
       "    </tr>\n",
       "    <tr>\n",
       "      <th>1</th>\n",
       "      <td>Male</td>\n",
       "      <td>76</td>\n",
       "      <td>1</td>\n",
       "      <td>3.0</td>\n",
       "      <td>0</td>\n",
       "      <td>1-2 Year</td>\n",
       "      <td>No</td>\n",
       "      <td>33536.0</td>\n",
       "      <td>26.0</td>\n",
       "      <td>183</td>\n",
       "      <td>24524.480813</td>\n",
       "      <td>30622.649122</td>\n",
       "      <td>30554.919366</td>\n",
       "      <td>30496.815760</td>\n",
       "      <td>30523.582120</td>\n",
       "      <td>30401.881693</td>\n",
       "      <td>33654.241355</td>\n",
       "      <td>31330.656226</td>\n",
       "    </tr>\n",
       "    <tr>\n",
       "      <th>2</th>\n",
       "      <td>Male</td>\n",
       "      <td>47</td>\n",
       "      <td>1</td>\n",
       "      <td>28.0</td>\n",
       "      <td>0</td>\n",
       "      <td>&gt; 2 Years</td>\n",
       "      <td>Yes</td>\n",
       "      <td>38294.0</td>\n",
       "      <td>26.0</td>\n",
       "      <td>27</td>\n",
       "      <td>38668.865245</td>\n",
       "      <td>30622.649122</td>\n",
       "      <td>30554.919366</td>\n",
       "      <td>30496.815760</td>\n",
       "      <td>35654.499469</td>\n",
       "      <td>30723.758171</td>\n",
       "      <td>33654.241355</td>\n",
       "      <td>30499.429812</td>\n",
       "    </tr>\n",
       "    <tr>\n",
       "      <th>3</th>\n",
       "      <td>Male</td>\n",
       "      <td>21</td>\n",
       "      <td>1</td>\n",
       "      <td>11.0</td>\n",
       "      <td>1</td>\n",
       "      <td>&lt; 1 Year</td>\n",
       "      <td>No</td>\n",
       "      <td>28619.0</td>\n",
       "      <td>152.0</td>\n",
       "      <td>203</td>\n",
       "      <td>27607.283146</td>\n",
       "      <td>30622.649122</td>\n",
       "      <td>30554.919366</td>\n",
       "      <td>30644.289198</td>\n",
       "      <td>30119.552025</td>\n",
       "      <td>30401.881693</td>\n",
       "      <td>30889.192493</td>\n",
       "      <td>31042.597826</td>\n",
       "    </tr>\n",
       "    <tr>\n",
       "      <th>4</th>\n",
       "      <td>Female</td>\n",
       "      <td>29</td>\n",
       "      <td>1</td>\n",
       "      <td>41.0</td>\n",
       "      <td>1</td>\n",
       "      <td>&lt; 1 Year</td>\n",
       "      <td>No</td>\n",
       "      <td>27496.0</td>\n",
       "      <td>152.0</td>\n",
       "      <td>39</td>\n",
       "      <td>30949.127471</td>\n",
       "      <td>30495.787990</td>\n",
       "      <td>30554.919366</td>\n",
       "      <td>30644.289198</td>\n",
       "      <td>30119.552025</td>\n",
       "      <td>30401.881693</td>\n",
       "      <td>30889.192493</td>\n",
       "      <td>30842.384326</td>\n",
       "    </tr>\n",
       "  </tbody>\n",
       "</table>\n",
       "</div>"
      ],
      "text/plain": [
       "   Gender  Age  Driving_License  Region_Code  Previously_Insured Vehicle_Age  \\\n",
       "0    Male   44                1         28.0                   0   > 2 Years   \n",
       "1    Male   76                1          3.0                   0    1-2 Year   \n",
       "2    Male   47                1         28.0                   0   > 2 Years   \n",
       "3    Male   21                1         11.0                   1    < 1 Year   \n",
       "4  Female   29                1         41.0                   1    < 1 Year   \n",
       "\n",
       "  Vehicle_Damage  Annual_Premium  Policy_Sales_Channel  Vintage  \\\n",
       "0            Yes         40454.0                  26.0      217   \n",
       "1             No         33536.0                  26.0      183   \n",
       "2            Yes         38294.0                  26.0       27   \n",
       "3             No         28619.0                 152.0      203   \n",
       "4             No         27496.0                 152.0       39   \n",
       "\n",
       "   mean_annual_deposit_per_region  mean_Admission_Deposit_per_gender  \\\n",
       "0                    38668.865245                       30622.649122   \n",
       "1                    24524.480813                       30622.649122   \n",
       "2                    38668.865245                       30622.649122   \n",
       "3                    27607.283146                       30622.649122   \n",
       "4                    30949.127471                       30495.787990   \n",
       "\n",
       "   mean_Admission_Deposit_per_driving_license  \\\n",
       "0                                30554.919366   \n",
       "1                                30554.919366   \n",
       "2                                30554.919366   \n",
       "3                                30554.919366   \n",
       "4                                30554.919366   \n",
       "\n",
       "   mean_Admission_Deposit_per_Previously_Insured  \\\n",
       "0                                   30496.815760   \n",
       "1                                   30496.815760   \n",
       "2                                   30496.815760   \n",
       "3                                   30644.289198   \n",
       "4                                   30644.289198   \n",
       "\n",
       "   mean_Admission_Deposit_per_vehicle_age  \\\n",
       "0                            35654.499469   \n",
       "1                            30523.582120   \n",
       "2                            35654.499469   \n",
       "3                            30119.552025   \n",
       "4                            30119.552025   \n",
       "\n",
       "   mean_Admission_Deposit_per_Vehicle_Damage  \\\n",
       "0                               30723.758171   \n",
       "1                               30401.881693   \n",
       "2                               30723.758171   \n",
       "3                               30401.881693   \n",
       "4                               30401.881693   \n",
       "\n",
       "   mean_Admission_Deposit_per_Policy_Sales  mean_Admission_Deposit_per_Vintage  \n",
       "0                             33654.241355                        29340.551908  \n",
       "1                             33654.241355                        31330.656226  \n",
       "2                             33654.241355                        30499.429812  \n",
       "3                             30889.192493                        31042.597826  \n",
       "4                             30889.192493                        30842.384326  "
      ]
     },
     "execution_count": 22,
     "metadata": {},
     "output_type": "execute_result"
    }
   ],
   "source": [
    "X = df.drop(['id','Response'], axis=1)\n",
    "y= df.Response\n",
    "X.head()"
   ]
  },
  {
   "cell_type": "code",
   "execution_count": 23,
   "metadata": {},
   "outputs": [
    {
     "name": "stdout",
     "output_type": "stream",
     "text": [
      "(380331, 18)\n"
     ]
    }
   ],
   "source": [
    "print(X.shape)"
   ]
  },
  {
   "cell_type": "code",
   "execution_count": 24,
   "metadata": {},
   "outputs": [
    {
     "data": {
      "text/plain": [
       "Index(['Gender', 'Age', 'Driving_License', 'Region_Code', 'Previously_Insured',\n",
       "       'Vehicle_Age', 'Vehicle_Damage', 'Annual_Premium',\n",
       "       'Policy_Sales_Channel', 'Vintage', 'mean_annual_deposit_per_region',\n",
       "       'mean_Admission_Deposit_per_gender',\n",
       "       'mean_Admission_Deposit_per_driving_license',\n",
       "       'mean_Admission_Deposit_per_Previously_Insured',\n",
       "       'mean_Admission_Deposit_per_vehicle_age',\n",
       "       'mean_Admission_Deposit_per_Vehicle_Damage',\n",
       "       'mean_Admission_Deposit_per_Policy_Sales',\n",
       "       'mean_Admission_Deposit_per_Vintage'],\n",
       "      dtype='object')"
      ]
     },
     "execution_count": 24,
     "metadata": {},
     "output_type": "execute_result"
    }
   ],
   "source": [
    "X.columns"
   ]
  },
  {
   "cell_type": "code",
   "execution_count": 25,
   "metadata": {},
   "outputs": [
    {
     "data": {
      "text/plain": [
       "Index(['Gender', 'Vehicle_Age', 'Vehicle_Damage'], dtype='object')"
      ]
     },
     "execution_count": 25,
     "metadata": {},
     "output_type": "execute_result"
    }
   ],
   "source": [
    "from sklearn.preprocessing import LabelEncoder\n",
    "X.select_dtypes(include='object').columns"
   ]
  },
  {
   "cell_type": "code",
   "execution_count": 26,
   "metadata": {},
   "outputs": [
    {
     "data": {
      "text/html": [
       "<div>\n",
       "<style scoped>\n",
       "    .dataframe tbody tr th:only-of-type {\n",
       "        vertical-align: middle;\n",
       "    }\n",
       "\n",
       "    .dataframe tbody tr th {\n",
       "        vertical-align: top;\n",
       "    }\n",
       "\n",
       "    .dataframe thead th {\n",
       "        text-align: right;\n",
       "    }\n",
       "</style>\n",
       "<table border=\"1\" class=\"dataframe\">\n",
       "  <thead>\n",
       "    <tr style=\"text-align: right;\">\n",
       "      <th></th>\n",
       "      <th>Age</th>\n",
       "      <th>Driving_License</th>\n",
       "      <th>Region_Code</th>\n",
       "      <th>Previously_Insured</th>\n",
       "      <th>Annual_Premium</th>\n",
       "      <th>Policy_Sales_Channel</th>\n",
       "      <th>Vintage</th>\n",
       "      <th>mean_annual_deposit_per_region</th>\n",
       "      <th>mean_Admission_Deposit_per_gender</th>\n",
       "      <th>mean_Admission_Deposit_per_driving_license</th>\n",
       "      <th>mean_Admission_Deposit_per_Previously_Insured</th>\n",
       "      <th>mean_Admission_Deposit_per_vehicle_age</th>\n",
       "      <th>mean_Admission_Deposit_per_Vehicle_Damage</th>\n",
       "      <th>mean_Admission_Deposit_per_Policy_Sales</th>\n",
       "      <th>mean_Admission_Deposit_per_Vintage</th>\n",
       "    </tr>\n",
       "  </thead>\n",
       "  <tbody>\n",
       "    <tr>\n",
       "      <th>0</th>\n",
       "      <td>44</td>\n",
       "      <td>1</td>\n",
       "      <td>28.0</td>\n",
       "      <td>0</td>\n",
       "      <td>40454.0</td>\n",
       "      <td>26.0</td>\n",
       "      <td>217</td>\n",
       "      <td>38668.865245</td>\n",
       "      <td>30622.649122</td>\n",
       "      <td>30554.919366</td>\n",
       "      <td>30496.815760</td>\n",
       "      <td>35654.499469</td>\n",
       "      <td>30723.758171</td>\n",
       "      <td>33654.241355</td>\n",
       "      <td>29340.551908</td>\n",
       "    </tr>\n",
       "    <tr>\n",
       "      <th>1</th>\n",
       "      <td>76</td>\n",
       "      <td>1</td>\n",
       "      <td>3.0</td>\n",
       "      <td>0</td>\n",
       "      <td>33536.0</td>\n",
       "      <td>26.0</td>\n",
       "      <td>183</td>\n",
       "      <td>24524.480813</td>\n",
       "      <td>30622.649122</td>\n",
       "      <td>30554.919366</td>\n",
       "      <td>30496.815760</td>\n",
       "      <td>30523.582120</td>\n",
       "      <td>30401.881693</td>\n",
       "      <td>33654.241355</td>\n",
       "      <td>31330.656226</td>\n",
       "    </tr>\n",
       "    <tr>\n",
       "      <th>2</th>\n",
       "      <td>47</td>\n",
       "      <td>1</td>\n",
       "      <td>28.0</td>\n",
       "      <td>0</td>\n",
       "      <td>38294.0</td>\n",
       "      <td>26.0</td>\n",
       "      <td>27</td>\n",
       "      <td>38668.865245</td>\n",
       "      <td>30622.649122</td>\n",
       "      <td>30554.919366</td>\n",
       "      <td>30496.815760</td>\n",
       "      <td>35654.499469</td>\n",
       "      <td>30723.758171</td>\n",
       "      <td>33654.241355</td>\n",
       "      <td>30499.429812</td>\n",
       "    </tr>\n",
       "    <tr>\n",
       "      <th>3</th>\n",
       "      <td>21</td>\n",
       "      <td>1</td>\n",
       "      <td>11.0</td>\n",
       "      <td>1</td>\n",
       "      <td>28619.0</td>\n",
       "      <td>152.0</td>\n",
       "      <td>203</td>\n",
       "      <td>27607.283146</td>\n",
       "      <td>30622.649122</td>\n",
       "      <td>30554.919366</td>\n",
       "      <td>30644.289198</td>\n",
       "      <td>30119.552025</td>\n",
       "      <td>30401.881693</td>\n",
       "      <td>30889.192493</td>\n",
       "      <td>31042.597826</td>\n",
       "    </tr>\n",
       "    <tr>\n",
       "      <th>4</th>\n",
       "      <td>29</td>\n",
       "      <td>1</td>\n",
       "      <td>41.0</td>\n",
       "      <td>1</td>\n",
       "      <td>27496.0</td>\n",
       "      <td>152.0</td>\n",
       "      <td>39</td>\n",
       "      <td>30949.127471</td>\n",
       "      <td>30495.787990</td>\n",
       "      <td>30554.919366</td>\n",
       "      <td>30644.289198</td>\n",
       "      <td>30119.552025</td>\n",
       "      <td>30401.881693</td>\n",
       "      <td>30889.192493</td>\n",
       "      <td>30842.384326</td>\n",
       "    </tr>\n",
       "  </tbody>\n",
       "</table>\n",
       "</div>"
      ],
      "text/plain": [
       "   Age  Driving_License  Region_Code  Previously_Insured  Annual_Premium  \\\n",
       "0   44                1         28.0                   0         40454.0   \n",
       "1   76                1          3.0                   0         33536.0   \n",
       "2   47                1         28.0                   0         38294.0   \n",
       "3   21                1         11.0                   1         28619.0   \n",
       "4   29                1         41.0                   1         27496.0   \n",
       "\n",
       "   Policy_Sales_Channel  Vintage  mean_annual_deposit_per_region  \\\n",
       "0                  26.0      217                    38668.865245   \n",
       "1                  26.0      183                    24524.480813   \n",
       "2                  26.0       27                    38668.865245   \n",
       "3                 152.0      203                    27607.283146   \n",
       "4                 152.0       39                    30949.127471   \n",
       "\n",
       "   mean_Admission_Deposit_per_gender  \\\n",
       "0                       30622.649122   \n",
       "1                       30622.649122   \n",
       "2                       30622.649122   \n",
       "3                       30622.649122   \n",
       "4                       30495.787990   \n",
       "\n",
       "   mean_Admission_Deposit_per_driving_license  \\\n",
       "0                                30554.919366   \n",
       "1                                30554.919366   \n",
       "2                                30554.919366   \n",
       "3                                30554.919366   \n",
       "4                                30554.919366   \n",
       "\n",
       "   mean_Admission_Deposit_per_Previously_Insured  \\\n",
       "0                                   30496.815760   \n",
       "1                                   30496.815760   \n",
       "2                                   30496.815760   \n",
       "3                                   30644.289198   \n",
       "4                                   30644.289198   \n",
       "\n",
       "   mean_Admission_Deposit_per_vehicle_age  \\\n",
       "0                            35654.499469   \n",
       "1                            30523.582120   \n",
       "2                            35654.499469   \n",
       "3                            30119.552025   \n",
       "4                            30119.552025   \n",
       "\n",
       "   mean_Admission_Deposit_per_Vehicle_Damage  \\\n",
       "0                               30723.758171   \n",
       "1                               30401.881693   \n",
       "2                               30723.758171   \n",
       "3                               30401.881693   \n",
       "4                               30401.881693   \n",
       "\n",
       "   mean_Admission_Deposit_per_Policy_Sales  mean_Admission_Deposit_per_Vintage  \n",
       "0                             33654.241355                        29340.551908  \n",
       "1                             33654.241355                        31330.656226  \n",
       "2                             33654.241355                        30499.429812  \n",
       "3                             30889.192493                        31042.597826  \n",
       "4                             30889.192493                        30842.384326  "
      ]
     },
     "execution_count": 26,
     "metadata": {},
     "output_type": "execute_result"
    }
   ],
   "source": [
    "X_label = X.select_dtypes(include='object').apply(LabelEncoder().fit_transform)\n",
    "X.drop(['Gender', 'Vehicle_Age', 'Vehicle_Damage'],axis=1, inplace=True)\n",
    "X.head()"
   ]
  },
  {
   "cell_type": "code",
   "execution_count": 27,
   "metadata": {},
   "outputs": [
    {
     "data": {
      "text/html": [
       "<div>\n",
       "<style scoped>\n",
       "    .dataframe tbody tr th:only-of-type {\n",
       "        vertical-align: middle;\n",
       "    }\n",
       "\n",
       "    .dataframe tbody tr th {\n",
       "        vertical-align: top;\n",
       "    }\n",
       "\n",
       "    .dataframe thead th {\n",
       "        text-align: right;\n",
       "    }\n",
       "</style>\n",
       "<table border=\"1\" class=\"dataframe\">\n",
       "  <thead>\n",
       "    <tr style=\"text-align: right;\">\n",
       "      <th></th>\n",
       "      <th>Age</th>\n",
       "      <th>Driving_License</th>\n",
       "      <th>Region_Code</th>\n",
       "      <th>Previously_Insured</th>\n",
       "      <th>Annual_Premium</th>\n",
       "      <th>Policy_Sales_Channel</th>\n",
       "      <th>Vintage</th>\n",
       "      <th>mean_annual_deposit_per_region</th>\n",
       "      <th>mean_Admission_Deposit_per_gender</th>\n",
       "      <th>mean_Admission_Deposit_per_driving_license</th>\n",
       "      <th>mean_Admission_Deposit_per_Previously_Insured</th>\n",
       "      <th>mean_Admission_Deposit_per_vehicle_age</th>\n",
       "      <th>mean_Admission_Deposit_per_Vehicle_Damage</th>\n",
       "      <th>mean_Admission_Deposit_per_Policy_Sales</th>\n",
       "      <th>mean_Admission_Deposit_per_Vintage</th>\n",
       "      <th>Gender</th>\n",
       "      <th>Vehicle_Age</th>\n",
       "      <th>Vehicle_Damage</th>\n",
       "    </tr>\n",
       "  </thead>\n",
       "  <tbody>\n",
       "    <tr>\n",
       "      <th>0</th>\n",
       "      <td>44</td>\n",
       "      <td>1</td>\n",
       "      <td>28.0</td>\n",
       "      <td>0</td>\n",
       "      <td>40454.0</td>\n",
       "      <td>26.0</td>\n",
       "      <td>217</td>\n",
       "      <td>38668.865245</td>\n",
       "      <td>30622.649122</td>\n",
       "      <td>30554.919366</td>\n",
       "      <td>30496.815760</td>\n",
       "      <td>35654.499469</td>\n",
       "      <td>30723.758171</td>\n",
       "      <td>33654.241355</td>\n",
       "      <td>29340.551908</td>\n",
       "      <td>1</td>\n",
       "      <td>2</td>\n",
       "      <td>1</td>\n",
       "    </tr>\n",
       "    <tr>\n",
       "      <th>1</th>\n",
       "      <td>76</td>\n",
       "      <td>1</td>\n",
       "      <td>3.0</td>\n",
       "      <td>0</td>\n",
       "      <td>33536.0</td>\n",
       "      <td>26.0</td>\n",
       "      <td>183</td>\n",
       "      <td>24524.480813</td>\n",
       "      <td>30622.649122</td>\n",
       "      <td>30554.919366</td>\n",
       "      <td>30496.815760</td>\n",
       "      <td>30523.582120</td>\n",
       "      <td>30401.881693</td>\n",
       "      <td>33654.241355</td>\n",
       "      <td>31330.656226</td>\n",
       "      <td>1</td>\n",
       "      <td>0</td>\n",
       "      <td>0</td>\n",
       "    </tr>\n",
       "    <tr>\n",
       "      <th>2</th>\n",
       "      <td>47</td>\n",
       "      <td>1</td>\n",
       "      <td>28.0</td>\n",
       "      <td>0</td>\n",
       "      <td>38294.0</td>\n",
       "      <td>26.0</td>\n",
       "      <td>27</td>\n",
       "      <td>38668.865245</td>\n",
       "      <td>30622.649122</td>\n",
       "      <td>30554.919366</td>\n",
       "      <td>30496.815760</td>\n",
       "      <td>35654.499469</td>\n",
       "      <td>30723.758171</td>\n",
       "      <td>33654.241355</td>\n",
       "      <td>30499.429812</td>\n",
       "      <td>1</td>\n",
       "      <td>2</td>\n",
       "      <td>1</td>\n",
       "    </tr>\n",
       "    <tr>\n",
       "      <th>3</th>\n",
       "      <td>21</td>\n",
       "      <td>1</td>\n",
       "      <td>11.0</td>\n",
       "      <td>1</td>\n",
       "      <td>28619.0</td>\n",
       "      <td>152.0</td>\n",
       "      <td>203</td>\n",
       "      <td>27607.283146</td>\n",
       "      <td>30622.649122</td>\n",
       "      <td>30554.919366</td>\n",
       "      <td>30644.289198</td>\n",
       "      <td>30119.552025</td>\n",
       "      <td>30401.881693</td>\n",
       "      <td>30889.192493</td>\n",
       "      <td>31042.597826</td>\n",
       "      <td>1</td>\n",
       "      <td>1</td>\n",
       "      <td>0</td>\n",
       "    </tr>\n",
       "    <tr>\n",
       "      <th>4</th>\n",
       "      <td>29</td>\n",
       "      <td>1</td>\n",
       "      <td>41.0</td>\n",
       "      <td>1</td>\n",
       "      <td>27496.0</td>\n",
       "      <td>152.0</td>\n",
       "      <td>39</td>\n",
       "      <td>30949.127471</td>\n",
       "      <td>30495.787990</td>\n",
       "      <td>30554.919366</td>\n",
       "      <td>30644.289198</td>\n",
       "      <td>30119.552025</td>\n",
       "      <td>30401.881693</td>\n",
       "      <td>30889.192493</td>\n",
       "      <td>30842.384326</td>\n",
       "      <td>0</td>\n",
       "      <td>1</td>\n",
       "      <td>0</td>\n",
       "    </tr>\n",
       "  </tbody>\n",
       "</table>\n",
       "</div>"
      ],
      "text/plain": [
       "   Age  Driving_License  Region_Code  Previously_Insured  Annual_Premium  \\\n",
       "0   44                1         28.0                   0         40454.0   \n",
       "1   76                1          3.0                   0         33536.0   \n",
       "2   47                1         28.0                   0         38294.0   \n",
       "3   21                1         11.0                   1         28619.0   \n",
       "4   29                1         41.0                   1         27496.0   \n",
       "\n",
       "   Policy_Sales_Channel  Vintage  mean_annual_deposit_per_region  \\\n",
       "0                  26.0      217                    38668.865245   \n",
       "1                  26.0      183                    24524.480813   \n",
       "2                  26.0       27                    38668.865245   \n",
       "3                 152.0      203                    27607.283146   \n",
       "4                 152.0       39                    30949.127471   \n",
       "\n",
       "   mean_Admission_Deposit_per_gender  \\\n",
       "0                       30622.649122   \n",
       "1                       30622.649122   \n",
       "2                       30622.649122   \n",
       "3                       30622.649122   \n",
       "4                       30495.787990   \n",
       "\n",
       "   mean_Admission_Deposit_per_driving_license  \\\n",
       "0                                30554.919366   \n",
       "1                                30554.919366   \n",
       "2                                30554.919366   \n",
       "3                                30554.919366   \n",
       "4                                30554.919366   \n",
       "\n",
       "   mean_Admission_Deposit_per_Previously_Insured  \\\n",
       "0                                   30496.815760   \n",
       "1                                   30496.815760   \n",
       "2                                   30496.815760   \n",
       "3                                   30644.289198   \n",
       "4                                   30644.289198   \n",
       "\n",
       "   mean_Admission_Deposit_per_vehicle_age  \\\n",
       "0                            35654.499469   \n",
       "1                            30523.582120   \n",
       "2                            35654.499469   \n",
       "3                            30119.552025   \n",
       "4                            30119.552025   \n",
       "\n",
       "   mean_Admission_Deposit_per_Vehicle_Damage  \\\n",
       "0                               30723.758171   \n",
       "1                               30401.881693   \n",
       "2                               30723.758171   \n",
       "3                               30401.881693   \n",
       "4                               30401.881693   \n",
       "\n",
       "   mean_Admission_Deposit_per_Policy_Sales  \\\n",
       "0                             33654.241355   \n",
       "1                             33654.241355   \n",
       "2                             33654.241355   \n",
       "3                             30889.192493   \n",
       "4                             30889.192493   \n",
       "\n",
       "   mean_Admission_Deposit_per_Vintage  Gender  Vehicle_Age  Vehicle_Damage  \n",
       "0                        29340.551908       1            2               1  \n",
       "1                        31330.656226       1            0               0  \n",
       "2                        30499.429812       1            2               1  \n",
       "3                        31042.597826       1            1               0  \n",
       "4                        30842.384326       0            1               0  "
      ]
     },
     "execution_count": 27,
     "metadata": {},
     "output_type": "execute_result"
    }
   ],
   "source": [
    "X = pd.concat([X, X_label], axis=1)\n",
    "X.head()"
   ]
  },
  {
   "cell_type": "code",
   "execution_count": 28,
   "metadata": {},
   "outputs": [
    {
     "data": {
      "text/plain": [
       "(380331, 18)"
      ]
     },
     "execution_count": 28,
     "metadata": {},
     "output_type": "execute_result"
    }
   ],
   "source": [
    "X.shape"
   ]
  },
  {
   "cell_type": "code",
   "execution_count": 29,
   "metadata": {},
   "outputs": [],
   "source": [
    "#from sklearn.preprocessing import MinMaxScaler\n",
    "#scaler = MinMaxScaler()\n",
    "#scaler.fit(X)\n",
    "#X_scaled = scaler.transform(X)\n",
    "#X = pd.DataFrame(X_scaled, columns = X.columns)\n",
    "#X.head()"
   ]
  },
  {
   "cell_type": "code",
   "execution_count": 30,
   "metadata": {},
   "outputs": [],
   "source": [
    "from sklearn.model_selection import train_test_split\n",
    "X_train, X_test,y_train, y_test = train_test_split(X,y, test_size=0.15,random_state=294)"
   ]
  },
  {
   "cell_type": "code",
   "execution_count": 31,
   "metadata": {},
   "outputs": [],
   "source": [
    "#!pip install catboost"
   ]
  },
  {
   "cell_type": "code",
   "execution_count": 32,
   "metadata": {},
   "outputs": [],
   "source": [
    "#from xgboost import XGBClassifier\n",
    "#from catboost import CatBoostClassifier\n",
    "#catb = CatBoostClassifier()\n",
    "#XG_model = CatBoostClassifier()\n",
    "import lightgbm as ltb\n",
    "XG_model = ltb.LGBMClassifier(n_estimators=6000,depth=20,learning_rate=0.02,colsample_bytree=0.5,reg_lambda=2,reg_alpha=2)\n",
    "#XG_model = XGBClassifier()"
   ]
  },
  {
   "cell_type": "code",
   "execution_count": 33,
   "metadata": {},
   "outputs": [],
   "source": [
    "#from sklearn.model_selection import RandomizedSearchCV, GridSearchCV\n",
    "#param_dist = {\"max_depth\": [25,50, 75],\n",
    " #             \"learning_rate\" : [0.01,0.05,0.1],\n",
    "  #            \"num_leaves\": [300,900,1200],\n",
    "   #           \"n_estimators\": [200]\n",
    "    #         }\n",
    "#grid_search = GridSearchCV(XG_model, n_jobs=-1, param_grid=param_dist, cv = 3, scoring=\"roc_auc\", verbose=5)\n",
    "#grid_search.fit(X_train,y_train)\n",
    "#grid_search.best_estimator_"
   ]
  },
  {
   "cell_type": "code",
   "execution_count": 34,
   "metadata": {},
   "outputs": [
    {
     "name": "stdout",
     "output_type": "stream",
     "text": [
      "(342297, 18)\n",
      "(342297,)\n"
     ]
    }
   ],
   "source": [
    "print(X_train.shape)\n",
    "print(y_train.shape)"
   ]
  },
  {
   "cell_type": "code",
   "execution_count": 35,
   "metadata": {},
   "outputs": [],
   "source": [
    "cat_col=['Gender','Driving_License', 'Region_Code', 'Previously_Insured', 'Vehicle_Age', 'Vehicle_Damage','Policy_Sales_Channel']"
   ]
  },
  {
   "cell_type": "code",
   "execution_count": 36,
   "metadata": {},
   "outputs": [
    {
     "name": "stderr",
     "output_type": "stream",
     "text": [
      "C:\\Users\\Sunny\\anaconda3\\lib\\site-packages\\lightgbm\\basic.py:1551: UserWarning: Using categorical_feature in Dataset.\n",
      "  warnings.warn('Using categorical_feature in Dataset.')\n",
      "C:\\Users\\Sunny\\anaconda3\\lib\\site-packages\\lightgbm\\basic.py:1555: UserWarning: categorical_feature in Dataset is overridden.\n",
      "New categorical_feature is ['Driving_License', 'Gender', 'Policy_Sales_Channel', 'Previously_Insured', 'Region_Code', 'Vehicle_Age', 'Vehicle_Damage']\n",
      "  'New categorical_feature is {}'.format(sorted(list(categorical_feature))))\n"
     ]
    },
    {
     "name": "stdout",
     "output_type": "stream",
     "text": [
      "[LightGBM] [Warning] Unknown parameter: depth\n"
     ]
    },
    {
     "name": "stderr",
     "output_type": "stream",
     "text": [
      "C:\\Users\\Sunny\\anaconda3\\lib\\site-packages\\lightgbm\\basic.py:1286: UserWarning: Overriding the parameters from Reference Dataset.\n",
      "  warnings.warn('Overriding the parameters from Reference Dataset.')\n",
      "C:\\Users\\Sunny\\anaconda3\\lib\\site-packages\\lightgbm\\basic.py:1098: UserWarning: categorical_column in param dict is overridden.\n",
      "  warnings.warn('{} in param dict is overridden.'.format(cat_alias))\n"
     ]
    },
    {
     "name": "stdout",
     "output_type": "stream",
     "text": [
      "Training until validation scores don't improve for 200 rounds\n",
      "[50]\tvalid_0's auc: 0.859329\tvalid_0's binary_logloss: 0.292442\n",
      "[100]\tvalid_0's auc: 0.8598\tvalid_0's binary_logloss: 0.272622\n",
      "[150]\tvalid_0's auc: 0.860035\tvalid_0's binary_logloss: 0.266364\n",
      "[200]\tvalid_0's auc: 0.860109\tvalid_0's binary_logloss: 0.264176\n",
      "[250]\tvalid_0's auc: 0.860104\tvalid_0's binary_logloss: 0.263394\n",
      "[300]\tvalid_0's auc: 0.86017\tvalid_0's binary_logloss: 0.263089\n",
      "[350]\tvalid_0's auc: 0.86024\tvalid_0's binary_logloss: 0.262952\n",
      "[400]\tvalid_0's auc: 0.860311\tvalid_0's binary_logloss: 0.26288\n",
      "[450]\tvalid_0's auc: 0.86033\tvalid_0's binary_logloss: 0.262856\n",
      "[500]\tvalid_0's auc: 0.860337\tvalid_0's binary_logloss: 0.26284\n",
      "[550]\tvalid_0's auc: 0.860399\tvalid_0's binary_logloss: 0.262809\n",
      "[600]\tvalid_0's auc: 0.860399\tvalid_0's binary_logloss: 0.262814\n",
      "[650]\tvalid_0's auc: 0.86043\tvalid_0's binary_logloss: 0.2628\n",
      "[700]\tvalid_0's auc: 0.860475\tvalid_0's binary_logloss: 0.262792\n",
      "[750]\tvalid_0's auc: 0.860498\tvalid_0's binary_logloss: 0.262787\n",
      "[800]\tvalid_0's auc: 0.860533\tvalid_0's binary_logloss: 0.262769\n",
      "[850]\tvalid_0's auc: 0.860546\tvalid_0's binary_logloss: 0.262775\n",
      "[900]\tvalid_0's auc: 0.860572\tvalid_0's binary_logloss: 0.262779\n",
      "[950]\tvalid_0's auc: 0.860513\tvalid_0's binary_logloss: 0.262802\n",
      "[1000]\tvalid_0's auc: 0.860475\tvalid_0's binary_logloss: 0.262824\n",
      "Early stopping, best iteration is:\n",
      "[808]\tvalid_0's auc: 0.860552\tvalid_0's binary_logloss: 0.262764\n"
     ]
    },
    {
     "data": {
      "text/plain": [
       "LGBMClassifier(boosting_type='gbdt', class_weight=None, colsample_bytree=0.5,\n",
       "               depth=20, importance_type='split', learning_rate=0.02,\n",
       "               max_depth=-1, min_child_samples=20, min_child_weight=0.001,\n",
       "               min_split_gain=0.0, n_estimators=6000, n_jobs=-1, num_leaves=31,\n",
       "               objective=None, random_state=None, reg_alpha=2, reg_lambda=2,\n",
       "               silent=True, subsample=1.0, subsample_for_bin=200000,\n",
       "               subsample_freq=0)"
      ]
     },
     "execution_count": 36,
     "metadata": {},
     "output_type": "execute_result"
    }
   ],
   "source": [
    "XG_model.fit(X_train, y_train, eval_set=[(X_test,y_test)], verbose=50, eval_metric='auc',categorical_feature=cat_col, early_stopping_rounds=200)"
   ]
  },
  {
   "cell_type": "code",
   "execution_count": 37,
   "metadata": {},
   "outputs": [
    {
     "data": {
      "text/plain": [
       "array([[6.37599109e-01, 3.62400891e-01],\n",
       "       [9.06168620e-01, 9.38313801e-02],\n",
       "       [7.45774909e-01, 2.54225091e-01],\n",
       "       ...,\n",
       "       [9.55233292e-01, 4.47667079e-02],\n",
       "       [9.99667499e-01, 3.32501205e-04],\n",
       "       [9.99613432e-01, 3.86567595e-04]])"
      ]
     },
     "execution_count": 37,
     "metadata": {},
     "output_type": "execute_result"
    }
   ],
   "source": [
    "y_pred = XG_model.predict_proba(X_test)\n",
    "y_pred"
   ]
  },
  {
   "cell_type": "code",
   "execution_count": 38,
   "metadata": {},
   "outputs": [
    {
     "data": {
      "text/plain": [
       "0.8605520862580907"
      ]
     },
     "execution_count": 38,
     "metadata": {},
     "output_type": "execute_result"
    }
   ],
   "source": [
    "from sklearn.metrics import roc_auc_score\n",
    "roc_auc_score(y_test,y_pred[:,1])\n",
    "#0.8609210858377091"
   ]
  },
  {
   "cell_type": "code",
   "execution_count": 39,
   "metadata": {},
   "outputs": [
    {
     "data": {
      "image/png": "[encoded data removed]",
      "text/plain": [
       "<Figure size 432x288 with 1 Axes>"
      ]
     },
     "metadata": {
      "needs_background": "light"
     },
     "output_type": "display_data"
    }
   ],
   "source": [
    "feat_importances = pd.Series(XG_model.feature_importances_, index=X_train.columns)\n",
    "feat_importances.nlargest(15).plot(kind='barh')\n",
    "plt.show()"
   ]
  },
  {
   "cell_type": "code",
   "execution_count": 40,
   "metadata": {},
   "outputs": [
    {
     "data": {
      "text/html": [
       "<div>\n",
       "<style scoped>\n",
       "    .dataframe tbody tr th:only-of-type {\n",
       "        vertical-align: middle;\n",
       "    }\n",
       "\n",
       "    .dataframe tbody tr th {\n",
       "        vertical-align: top;\n",
       "    }\n",
       "\n",
       "    .dataframe thead th {\n",
       "        text-align: right;\n",
       "    }\n",
       "</style>\n",
       "<table border=\"1\" class=\"dataframe\">\n",
       "  <thead>\n",
       "    <tr style=\"text-align: right;\">\n",
       "      <th></th>\n",
       "      <th>id</th>\n",
       "      <th>Gender</th>\n",
       "      <th>Age</th>\n",
       "      <th>Driving_License</th>\n",
       "      <th>Region_Code</th>\n",
       "      <th>Previously_Insured</th>\n",
       "      <th>Vehicle_Age</th>\n",
       "      <th>Vehicle_Damage</th>\n",
       "      <th>Annual_Premium</th>\n",
       "      <th>Policy_Sales_Channel</th>\n",
       "      <th>Vintage</th>\n",
       "    </tr>\n",
       "  </thead>\n",
       "  <tbody>\n",
       "    <tr>\n",
       "      <th>0</th>\n",
       "      <td>381110</td>\n",
       "      <td>Male</td>\n",
       "      <td>25</td>\n",
       "      <td>1</td>\n",
       "      <td>11.0</td>\n",
       "      <td>1</td>\n",
       "      <td>&lt; 1 Year</td>\n",
       "      <td>No</td>\n",
       "      <td>35786.0</td>\n",
       "      <td>152.0</td>\n",
       "      <td>53</td>\n",
       "    </tr>\n",
       "    <tr>\n",
       "      <th>1</th>\n",
       "      <td>381111</td>\n",
       "      <td>Male</td>\n",
       "      <td>40</td>\n",
       "      <td>1</td>\n",
       "      <td>28.0</td>\n",
       "      <td>0</td>\n",
       "      <td>1-2 Year</td>\n",
       "      <td>Yes</td>\n",
       "      <td>33762.0</td>\n",
       "      <td>7.0</td>\n",
       "      <td>111</td>\n",
       "    </tr>\n",
       "    <tr>\n",
       "      <th>2</th>\n",
       "      <td>381112</td>\n",
       "      <td>Male</td>\n",
       "      <td>47</td>\n",
       "      <td>1</td>\n",
       "      <td>28.0</td>\n",
       "      <td>0</td>\n",
       "      <td>1-2 Year</td>\n",
       "      <td>Yes</td>\n",
       "      <td>40050.0</td>\n",
       "      <td>124.0</td>\n",
       "      <td>199</td>\n",
       "    </tr>\n",
       "    <tr>\n",
       "      <th>3</th>\n",
       "      <td>381113</td>\n",
       "      <td>Male</td>\n",
       "      <td>24</td>\n",
       "      <td>1</td>\n",
       "      <td>27.0</td>\n",
       "      <td>1</td>\n",
       "      <td>&lt; 1 Year</td>\n",
       "      <td>Yes</td>\n",
       "      <td>37356.0</td>\n",
       "      <td>152.0</td>\n",
       "      <td>187</td>\n",
       "    </tr>\n",
       "    <tr>\n",
       "      <th>4</th>\n",
       "      <td>381114</td>\n",
       "      <td>Male</td>\n",
       "      <td>27</td>\n",
       "      <td>1</td>\n",
       "      <td>28.0</td>\n",
       "      <td>1</td>\n",
       "      <td>&lt; 1 Year</td>\n",
       "      <td>No</td>\n",
       "      <td>59097.0</td>\n",
       "      <td>152.0</td>\n",
       "      <td>297</td>\n",
       "    </tr>\n",
       "  </tbody>\n",
       "</table>\n",
       "</div>"
      ],
      "text/plain": [
       "       id Gender  Age  Driving_License  Region_Code  Previously_Insured  \\\n",
       "0  381110   Male   25                1         11.0                   1   \n",
       "1  381111   Male   40                1         28.0                   0   \n",
       "2  381112   Male   47                1         28.0                   0   \n",
       "3  381113   Male   24                1         27.0                   1   \n",
       "4  381114   Male   27                1         28.0                   1   \n",
       "\n",
       "  Vehicle_Age Vehicle_Damage  Annual_Premium  Policy_Sales_Channel  Vintage  \n",
       "0    < 1 Year             No         35786.0                 152.0       53  \n",
       "1    1-2 Year            Yes         33762.0                   7.0      111  \n",
       "2    1-2 Year            Yes         40050.0                 124.0      199  \n",
       "3    < 1 Year            Yes         37356.0                 152.0      187  \n",
       "4    < 1 Year             No         59097.0                 152.0      297  "
      ]
     },
     "execution_count": 40,
     "metadata": {},
     "output_type": "execute_result"
    }
   ],
   "source": [
    "test = pd.read_csv('C:\\\\Users\\\\Sunny\\\\Desktop\\\\Analytics Vidhya\\\\Cross Sell\\\\test.csv')\n",
    "test.head()"
   ]
  },
  {
   "cell_type": "code",
   "execution_count": 41,
   "metadata": {},
   "outputs": [],
   "source": [
    "test['mean_annual_deposit_per_region'] = test.groupby('Region_Code')['Annual_Premium'].transform('mean')\n",
    "test['mean_Admission_Deposit_per_gender']=test.groupby(['Gender'])['Annual_Premium'].transform('mean')\n",
    "test['mean_Admission_Deposit_per_driving_license']=test.groupby(['Driving_License'])['Annual_Premium'].transform('mean')\n",
    "test['mean_Admission_Deposit_per_Previously_Insured']=test.groupby(['Previously_Insured'])['Annual_Premium'].transform('mean')\n",
    "test['mean_Admission_Deposit_per_vehicle_age']=test.groupby(['Vehicle_Age'])['Annual_Premium'].transform('mean')\n",
    "test['mean_Admission_Deposit_per_Vehicle_Damage']=test.groupby(['Vehicle_Damage'])['Annual_Premium'].transform('mean')\n",
    "test['mean_Admission_Deposit_per_Policy_Sales']=test.groupby(['Policy_Sales_Channel'])['Annual_Premium'].transform('mean')\n",
    "test['mean_Admission_Deposit_per_Vintage']=test.groupby(['Vintage'])['Annual_Premium'].transform('mean')"
   ]
  },
  {
   "cell_type": "code",
   "execution_count": 42,
   "metadata": {},
   "outputs": [
    {
     "data": {
      "text/plain": [
       "<matplotlib.axes._subplots.AxesSubplot at 0x1b081473c48>"
      ]
     },
     "execution_count": 42,
     "metadata": {},
     "output_type": "execute_result"
    },
    {
     "data": {
      "image/png": "[encoded data removed]",
      "text/plain": [
       "<Figure size 1080x360 with 1 Axes>"
      ]
     },
     "metadata": {
      "needs_background": "light"
     },
     "output_type": "display_data"
    }
   ],
   "source": [
    "plt.figure(figsize=(15,5))\n",
    "test.boxplot()"
   ]
  },
  {
   "cell_type": "code",
   "execution_count": 43,
   "metadata": {},
   "outputs": [],
   "source": [
    "#test.Annual_Premium = np.log(test.Annual_Premium)\n",
    "#test.head()"
   ]
  },
  {
   "cell_type": "code",
   "execution_count": 44,
   "metadata": {},
   "outputs": [],
   "source": [
    "test_id = test.id\n",
    "test = test.drop('id',axis=1)"
   ]
  },
  {
   "cell_type": "code",
   "execution_count": 45,
   "metadata": {},
   "outputs": [
    {
     "data": {
      "text/plain": [
       "Gender                                           0\n",
       "Age                                              0\n",
       "Driving_License                                  0\n",
       "Region_Code                                      0\n",
       "Previously_Insured                               0\n",
       "Vehicle_Age                                      0\n",
       "Vehicle_Damage                                   0\n",
       "Annual_Premium                                   0\n",
       "Policy_Sales_Channel                             0\n",
       "Vintage                                          0\n",
       "mean_annual_deposit_per_region                   0\n",
       "mean_Admission_Deposit_per_gender                0\n",
       "mean_Admission_Deposit_per_driving_license       0\n",
       "mean_Admission_Deposit_per_Previously_Insured    0\n",
       "mean_Admission_Deposit_per_vehicle_age           0\n",
       "mean_Admission_Deposit_per_Vehicle_Damage        0\n",
       "mean_Admission_Deposit_per_Policy_Sales          0\n",
       "mean_Admission_Deposit_per_Vintage               0\n",
       "dtype: int64"
      ]
     },
     "execution_count": 45,
     "metadata": {},
     "output_type": "execute_result"
    }
   ],
   "source": [
    "test.isnull().sum()"
   ]
  },
  {
   "cell_type": "code",
   "execution_count": 46,
   "metadata": {},
   "outputs": [
    {
     "data": {
      "text/plain": [
       "(127037, 18)"
      ]
     },
     "execution_count": 46,
     "metadata": {},
     "output_type": "execute_result"
    }
   ],
   "source": [
    "test.shape"
   ]
  },
  {
   "cell_type": "code",
   "execution_count": 47,
   "metadata": {},
   "outputs": [
    {
     "data": {
      "text/plain": [
       "37"
      ]
     },
     "execution_count": 47,
     "metadata": {},
     "output_type": "execute_result"
    }
   ],
   "source": [
    "test.duplicated().sum()"
   ]
  },
  {
   "cell_type": "code",
   "execution_count": 48,
   "metadata": {},
   "outputs": [
    {
     "data": {
      "text/plain": [
       "<matplotlib.axes._subplots.AxesSubplot at 0x1b081b93748>"
      ]
     },
     "execution_count": 48,
     "metadata": {},
     "output_type": "execute_result"
    },
    {
     "data": {
      "image/png": "[encoded data removed]",
      "text/plain": [
       "<Figure size 1800x360 with 1 Axes>"
      ]
     },
     "metadata": {
      "needs_background": "light"
     },
     "output_type": "display_data"
    }
   ],
   "source": [
    "plt.figure(figsize=(25,5))\n",
    "test.boxplot()"
   ]
  },
  {
   "cell_type": "code",
   "execution_count": 49,
   "metadata": {},
   "outputs": [
    {
     "data": {
      "text/html": [
       "<div>\n",
       "<style scoped>\n",
       "    .dataframe tbody tr th:only-of-type {\n",
       "        vertical-align: middle;\n",
       "    }\n",
       "\n",
       "    .dataframe tbody tr th {\n",
       "        vertical-align: top;\n",
       "    }\n",
       "\n",
       "    .dataframe thead th {\n",
       "        text-align: right;\n",
       "    }\n",
       "</style>\n",
       "<table border=\"1\" class=\"dataframe\">\n",
       "  <thead>\n",
       "    <tr style=\"text-align: right;\">\n",
       "      <th></th>\n",
       "      <th>Age</th>\n",
       "      <th>Driving_License</th>\n",
       "      <th>Region_Code</th>\n",
       "      <th>Previously_Insured</th>\n",
       "      <th>Annual_Premium</th>\n",
       "      <th>Policy_Sales_Channel</th>\n",
       "      <th>Vintage</th>\n",
       "      <th>mean_annual_deposit_per_region</th>\n",
       "      <th>mean_Admission_Deposit_per_gender</th>\n",
       "      <th>mean_Admission_Deposit_per_driving_license</th>\n",
       "      <th>mean_Admission_Deposit_per_Previously_Insured</th>\n",
       "      <th>mean_Admission_Deposit_per_vehicle_age</th>\n",
       "      <th>mean_Admission_Deposit_per_Vehicle_Damage</th>\n",
       "      <th>mean_Admission_Deposit_per_Policy_Sales</th>\n",
       "      <th>mean_Admission_Deposit_per_Vintage</th>\n",
       "    </tr>\n",
       "  </thead>\n",
       "  <tbody>\n",
       "    <tr>\n",
       "      <th>0</th>\n",
       "      <td>25</td>\n",
       "      <td>1</td>\n",
       "      <td>11.0</td>\n",
       "      <td>1</td>\n",
       "      <td>35786.0</td>\n",
       "      <td>152.0</td>\n",
       "      <td>53</td>\n",
       "      <td>27798.016796</td>\n",
       "      <td>30571.326147</td>\n",
       "      <td>30515.365946</td>\n",
       "      <td>30640.801667</td>\n",
       "      <td>30084.525709</td>\n",
       "      <td>30354.891839</td>\n",
       "      <td>30927.284874</td>\n",
       "      <td>29489.311558</td>\n",
       "    </tr>\n",
       "    <tr>\n",
       "      <th>1</th>\n",
       "      <td>40</td>\n",
       "      <td>1</td>\n",
       "      <td>28.0</td>\n",
       "      <td>0</td>\n",
       "      <td>33762.0</td>\n",
       "      <td>7.0</td>\n",
       "      <td>111</td>\n",
       "      <td>38593.000028</td>\n",
       "      <td>30571.326147</td>\n",
       "      <td>30515.365946</td>\n",
       "      <td>30425.678475</td>\n",
       "      <td>30489.908844</td>\n",
       "      <td>30692.712023</td>\n",
       "      <td>37980.703041</td>\n",
       "      <td>30135.674157</td>\n",
       "    </tr>\n",
       "    <tr>\n",
       "      <th>2</th>\n",
       "      <td>47</td>\n",
       "      <td>1</td>\n",
       "      <td>28.0</td>\n",
       "      <td>0</td>\n",
       "      <td>40050.0</td>\n",
       "      <td>124.0</td>\n",
       "      <td>199</td>\n",
       "      <td>38593.000028</td>\n",
       "      <td>30571.326147</td>\n",
       "      <td>30515.365946</td>\n",
       "      <td>30425.678475</td>\n",
       "      <td>30489.908844</td>\n",
       "      <td>30692.712023</td>\n",
       "      <td>31588.901745</td>\n",
       "      <td>31358.369767</td>\n",
       "    </tr>\n",
       "    <tr>\n",
       "      <th>3</th>\n",
       "      <td>24</td>\n",
       "      <td>1</td>\n",
       "      <td>27.0</td>\n",
       "      <td>1</td>\n",
       "      <td>37356.0</td>\n",
       "      <td>152.0</td>\n",
       "      <td>187</td>\n",
       "      <td>22209.755631</td>\n",
       "      <td>30571.326147</td>\n",
       "      <td>30515.365946</td>\n",
       "      <td>30640.801667</td>\n",
       "      <td>30084.525709</td>\n",
       "      <td>30692.712023</td>\n",
       "      <td>30927.284874</td>\n",
       "      <td>29694.924171</td>\n",
       "    </tr>\n",
       "    <tr>\n",
       "      <th>4</th>\n",
       "      <td>27</td>\n",
       "      <td>1</td>\n",
       "      <td>28.0</td>\n",
       "      <td>1</td>\n",
       "      <td>59097.0</td>\n",
       "      <td>152.0</td>\n",
       "      <td>297</td>\n",
       "      <td>38593.000028</td>\n",
       "      <td>30571.326147</td>\n",
       "      <td>30515.365946</td>\n",
       "      <td>30640.801667</td>\n",
       "      <td>30084.525709</td>\n",
       "      <td>30354.891839</td>\n",
       "      <td>30927.284874</td>\n",
       "      <td>30922.283854</td>\n",
       "    </tr>\n",
       "  </tbody>\n",
       "</table>\n",
       "</div>"
      ],
      "text/plain": [
       "   Age  Driving_License  Region_Code  Previously_Insured  Annual_Premium  \\\n",
       "0   25                1         11.0                   1         35786.0   \n",
       "1   40                1         28.0                   0         33762.0   \n",
       "2   47                1         28.0                   0         40050.0   \n",
       "3   24                1         27.0                   1         37356.0   \n",
       "4   27                1         28.0                   1         59097.0   \n",
       "\n",
       "   Policy_Sales_Channel  Vintage  mean_annual_deposit_per_region  \\\n",
       "0                 152.0       53                    27798.016796   \n",
       "1                   7.0      111                    38593.000028   \n",
       "2                 124.0      199                    38593.000028   \n",
       "3                 152.0      187                    22209.755631   \n",
       "4                 152.0      297                    38593.000028   \n",
       "\n",
       "   mean_Admission_Deposit_per_gender  \\\n",
       "0                       30571.326147   \n",
       "1                       30571.326147   \n",
       "2                       30571.326147   \n",
       "3                       30571.326147   \n",
       "4                       30571.326147   \n",
       "\n",
       "   mean_Admission_Deposit_per_driving_license  \\\n",
       "0                                30515.365946   \n",
       "1                                30515.365946   \n",
       "2                                30515.365946   \n",
       "3                                30515.365946   \n",
       "4                                30515.365946   \n",
       "\n",
       "   mean_Admission_Deposit_per_Previously_Insured  \\\n",
       "0                                   30640.801667   \n",
       "1                                   30425.678475   \n",
       "2                                   30425.678475   \n",
       "3                                   30640.801667   \n",
       "4                                   30640.801667   \n",
       "\n",
       "   mean_Admission_Deposit_per_vehicle_age  \\\n",
       "0                            30084.525709   \n",
       "1                            30489.908844   \n",
       "2                            30489.908844   \n",
       "3                            30084.525709   \n",
       "4                            30084.525709   \n",
       "\n",
       "   mean_Admission_Deposit_per_Vehicle_Damage  \\\n",
       "0                               30354.891839   \n",
       "1                               30692.712023   \n",
       "2                               30692.712023   \n",
       "3                               30692.712023   \n",
       "4                               30354.891839   \n",
       "\n",
       "   mean_Admission_Deposit_per_Policy_Sales  mean_Admission_Deposit_per_Vintage  \n",
       "0                             30927.284874                        29489.311558  \n",
       "1                             37980.703041                        30135.674157  \n",
       "2                             31588.901745                        31358.369767  \n",
       "3                             30927.284874                        29694.924171  \n",
       "4                             30927.284874                        30922.283854  "
      ]
     },
     "execution_count": 49,
     "metadata": {},
     "output_type": "execute_result"
    }
   ],
   "source": [
    "test_label = test.select_dtypes(include='object').apply(LabelEncoder().fit_transform)\n",
    "test.drop(['Gender', 'Vehicle_Age', 'Vehicle_Damage'],axis=1, inplace=True)\n",
    "test.head()"
   ]
  },
  {
   "cell_type": "code",
   "execution_count": 50,
   "metadata": {},
   "outputs": [],
   "source": [
    "test = pd.concat([test, test_label], axis=1)"
   ]
  },
  {
   "cell_type": "code",
   "execution_count": 51,
   "metadata": {},
   "outputs": [
    {
     "data": {
      "text/plain": [
       "(127037, 18)"
      ]
     },
     "execution_count": 51,
     "metadata": {},
     "output_type": "execute_result"
    }
   ],
   "source": [
    "test.shape"
   ]
  },
  {
   "cell_type": "code",
   "execution_count": 52,
   "metadata": {},
   "outputs": [],
   "source": [
    "#from sklearn.preprocessing import MinMaxScaler\n",
    "#scaler_test = MinMaxScaler()\n",
    "#scaler_test.fit(test)\n",
    "#test_scaled = scaler_test.transform(test)\n",
    "#test = pd.DataFrame(test_scaled,columns=test.columns)\n",
    "#test.head()"
   ]
  },
  {
   "cell_type": "code",
   "execution_count": 53,
   "metadata": {},
   "outputs": [
    {
     "data": {
      "text/plain": [
       "array([6.88796024e-04, 3.08504112e-01, 3.00818123e-01, ...,\n",
       "       3.01888613e-04, 3.14037305e-04, 1.31275859e-03])"
      ]
     },
     "execution_count": 53,
     "metadata": {},
     "output_type": "execute_result"
    }
   ],
   "source": [
    "test_predicted = XG_model.predict_proba(test)\n",
    "test_predicted[:,1]"
   ]
  },
  {
   "cell_type": "code",
   "execution_count": 54,
   "metadata": {},
   "outputs": [],
   "source": [
    "test['Response'] =  test_predicted[:,1]"
   ]
  },
  {
   "cell_type": "code",
   "execution_count": 55,
   "metadata": {},
   "outputs": [],
   "source": [
    "submission = pd.DataFrame([test_id, test.Response])"
   ]
  },
  {
   "cell_type": "code",
   "execution_count": 56,
   "metadata": {},
   "outputs": [
    {
     "data": {
      "text/html": [
       "<div>\n",
       "<style scoped>\n",
       "    .dataframe tbody tr th:only-of-type {\n",
       "        vertical-align: middle;\n",
       "    }\n",
       "\n",
       "    .dataframe tbody tr th {\n",
       "        vertical-align: top;\n",
       "    }\n",
       "\n",
       "    .dataframe thead th {\n",
       "        text-align: right;\n",
       "    }\n",
       "</style>\n",
       "<table border=\"1\" class=\"dataframe\">\n",
       "  <thead>\n",
       "    <tr style=\"text-align: right;\">\n",
       "      <th></th>\n",
       "      <th>id</th>\n",
       "      <th>Response</th>\n",
       "    </tr>\n",
       "  </thead>\n",
       "  <tbody>\n",
       "    <tr>\n",
       "      <th>0</th>\n",
       "      <td>381110.0</td>\n",
       "      <td>0.000689</td>\n",
       "    </tr>\n",
       "    <tr>\n",
       "      <th>1</th>\n",
       "      <td>381111.0</td>\n",
       "      <td>0.308504</td>\n",
       "    </tr>\n",
       "    <tr>\n",
       "      <th>2</th>\n",
       "      <td>381112.0</td>\n",
       "      <td>0.300818</td>\n",
       "    </tr>\n",
       "    <tr>\n",
       "      <th>3</th>\n",
       "      <td>381113.0</td>\n",
       "      <td>0.008463</td>\n",
       "    </tr>\n",
       "    <tr>\n",
       "      <th>4</th>\n",
       "      <td>381114.0</td>\n",
       "      <td>0.000403</td>\n",
       "    </tr>\n",
       "  </tbody>\n",
       "</table>\n",
       "</div>"
      ],
      "text/plain": [
       "         id  Response\n",
       "0  381110.0  0.000689\n",
       "1  381111.0  0.308504\n",
       "2  381112.0  0.300818\n",
       "3  381113.0  0.008463\n",
       "4  381114.0  0.000403"
      ]
     },
     "execution_count": 56,
     "metadata": {},
     "output_type": "execute_result"
    }
   ],
   "source": [
    "submission = submission.T\n",
    "submission.head()"
   ]
  },
  {
   "cell_type": "code",
   "execution_count": 57,
   "metadata": {},
   "outputs": [],
   "source": [
    "submission.to_csv('submission.csv',index=False)"
   ]
  },
  {
   "cell_type": "code",
   "execution_count": 58,
   "metadata": {},
   "outputs": [
    {
     "data": {
      "text/plain": [
       "0    333744\n",
       "1     46587\n",
       "Name: Response, dtype: int64"
      ]
     },
     "execution_count": 58,
     "metadata": {},
     "output_type": "execute_result"
    }
   ],
   "source": [
    "df.Response.value_counts()"
   ]
  },
  {
   "cell_type": "code",
   "execution_count": 59,
   "metadata": {},
   "outputs": [
    {
     "data": {
      "text/plain": [
       "'C:\\\\Users\\\\Sunny'"
      ]
     },
     "execution_count": 59,
     "metadata": {},
     "output_type": "execute_result"
    }
   ],
   "source": [
    "pwd"
   ]
  },
  {
   "cell_type": "code",
   "execution_count": 60,
   "metadata": {},
   "outputs": [
    {
     "data": {
      "text/plain": [
       "Index(['Age', 'Driving_License', 'Region_Code', 'Previously_Insured',\n",
       "       'Annual_Premium', 'Policy_Sales_Channel', 'Vintage',\n",
       "       'mean_annual_deposit_per_region', 'mean_Admission_Deposit_per_gender',\n",
       "       'mean_Admission_Deposit_per_driving_license',\n",
       "       'mean_Admission_Deposit_per_Previously_Insured',\n",
       "       'mean_Admission_Deposit_per_vehicle_age',\n",
       "       'mean_Admission_Deposit_per_Vehicle_Damage',\n",
       "       'mean_Admission_Deposit_per_Policy_Sales',\n",
       "       'mean_Admission_Deposit_per_Vintage', 'Gender', 'Vehicle_Age',\n",
       "       'Vehicle_Damage', 'Response'],\n",
       "      dtype='object')"
      ]
     },
     "execution_count": 60,
     "metadata": {},
     "output_type": "execute_result"
    }
   ],
   "source": [
    "test.columns"
   ]
  },
  {
   "cell_type": "code",
   "execution_count": 61,
   "metadata": {},
   "outputs": [
    {
     "data": {
      "text/plain": [
       "Index(['Age', 'Driving_License', 'Region_Code', 'Previously_Insured',\n",
       "       'Annual_Premium', 'Policy_Sales_Channel', 'Vintage',\n",
       "       'mean_annual_deposit_per_region', 'mean_Admission_Deposit_per_gender',\n",
       "       'mean_Admission_Deposit_per_driving_license',\n",
       "       'mean_Admission_Deposit_per_Previously_Insured',\n",
       "       'mean_Admission_Deposit_per_vehicle_age',\n",
       "       'mean_Admission_Deposit_per_Vehicle_Damage',\n",
       "       'mean_Admission_Deposit_per_Policy_Sales',\n",
       "       'mean_Admission_Deposit_per_Vintage', 'Gender', 'Vehicle_Age',\n",
       "       'Vehicle_Damage'],\n",
       "      dtype='object')"
      ]
     },
     "execution_count": 61,
     "metadata": {},
     "output_type": "execute_result"
    }
   ],
   "source": [
    "X.columns"
   ]
  },
  {
   "cell_type": "code",
   "execution_count": null,
   "metadata": {},
   "outputs": [],
   "source": []
  }
 ],
 "metadata": {
  "kernelspec": {
   "display_name": "Python 3",
   "language": "python",
   "name": "python3"
  },
  "language_info": {
   "codemirror_mode": {
    "name": "ipython",
    "version": 3
   },
   "file_extension": ".py",
   "mimetype": "text/x-python",
   "name": "python",
   "nbconvert_exporter": "python",
   "pygments_lexer": "ipython3",
   "version": "3.7.6"
  }
 },
 "nbformat": 4,
 "nbformat_minor": 4
}
